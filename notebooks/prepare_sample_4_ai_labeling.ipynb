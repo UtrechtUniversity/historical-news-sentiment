{
 "cells": [
  {
   "cell_type": "code",
   "execution_count": 1,
   "id": "96d99ce3-4d27-4268-a53e-c9458ff8c3c6",
   "metadata": {},
   "outputs": [],
   "source": [
    "import pandas as pd\n",
    "from pathlib import Path"
   ]
  },
  {
   "cell_type": "code",
   "execution_count": 52,
   "id": "7ab3384a-2028-4702-ae98-8f123e74a4ee",
   "metadata": {},
   "outputs": [
    {
     "name": "stdout",
     "output_type": "stream",
     "text": [
      "[PosixPath('../../output_nuclear/all/to_label_articles_1960.csv'), PosixPath('../../output_nuclear/all/to_label_articles_1970.csv'), PosixPath('../../output_nuclear/all/to_label_articles_1960_ddd.csv'), PosixPath('../../output_nuclear/all/to_label_articles_1970_ddd.csv'), PosixPath('../../output_nuclear/all/to_label_articles_1980_ddd.csv'), PosixPath('../../output_nuclear/all/to_label_articles_1990_ddd.csv'), PosixPath('../../output_nuclear/all/to_label_articles_1980.csv'), PosixPath('../../output_nuclear/all/to_label_articles_1990.csv')]\n"
     ]
    }
   ],
   "source": [
    "input_dir = Path(\"../../output_nuclear/all/\")\n",
    "csv_files = list(input_dir.glob(\"*.csv\"))\n",
    "print(csv_files)\n",
    "dfs = []\n",
    "for fp in csv_files:\n",
    "    df = pd.read_csv(fp)\n",
    "    df = df[[\"file_path\", \"date\", \"article_id\", \"title\", \"body\", \"label\"]]\n",
    "    dfs.append(df)\n",
    "\n",
    "combined = pd.concat(dfs, ignore_index=True)\n",
    "\n",
    "#combined.to_csv(input_dir / \"combined_all.csv\", index=False, encoding=\"utf-8\")\n"
   ]
  },
  {
   "cell_type": "code",
   "execution_count": 53,
   "id": "08a318ea-cdd9-4218-a017-d3dd1b5990a1",
   "metadata": {},
   "outputs": [],
   "source": [
    "combined['body_length'] = combined['body'].str.len()\n",
    "combined['word_count'] = combined['body'].str.split().apply(len)"
   ]
  },
  {
   "cell_type": "code",
   "execution_count": 54,
   "id": "36aac993-8d00-461d-9a46-5c628129eb39",
   "metadata": {},
   "outputs": [
    {
     "data": {
      "text/plain": [
       "(43595, 8)"
      ]
     },
     "execution_count": 54,
     "metadata": {},
     "output_type": "execute_result"
    }
   ],
   "source": [
    "combined.shape"
   ]
  },
  {
   "cell_type": "code",
   "execution_count": 55,
   "id": "821f5e60-99ff-4427-ae8b-c13fa666b473",
   "metadata": {},
   "outputs": [
    {
     "data": {
      "text/html": [
       "<div>\n",
       "<style scoped>\n",
       "    .dataframe tbody tr th:only-of-type {\n",
       "        vertical-align: middle;\n",
       "    }\n",
       "\n",
       "    .dataframe tbody tr th {\n",
       "        vertical-align: top;\n",
       "    }\n",
       "\n",
       "    .dataframe thead th {\n",
       "        text-align: right;\n",
       "    }\n",
       "</style>\n",
       "<table border=\"1\" class=\"dataframe\">\n",
       "  <thead>\n",
       "    <tr style=\"text-align: right;\">\n",
       "      <th></th>\n",
       "      <th>file_path</th>\n",
       "      <th>date</th>\n",
       "      <th>article_id</th>\n",
       "      <th>title</th>\n",
       "      <th>body</th>\n",
       "      <th>label</th>\n",
       "      <th>body_length</th>\n",
       "      <th>word_count</th>\n",
       "    </tr>\n",
       "  </thead>\n",
       "  <tbody>\n",
       "    <tr>\n",
       "      <th>0</th>\n",
       "      <td>../data/converted/2022_harvest_KRANTEN/47/KRAN...</td>\n",
       "      <td>1966-06-27</td>\n",
       "      <td>45</td>\n",
       "      <td>Produktie kernenergie stijgt razendsnel</td>\n",
       "      <td>BOEDAPEST (ÜPI) — Omstreeks l»»u zullen kernce...</td>\n",
       "      <td>NaN</td>\n",
       "      <td>736</td>\n",
       "      <td>110</td>\n",
       "    </tr>\n",
       "    <tr>\n",
       "      <th>1</th>\n",
       "      <td>../data/converted/2022_harvest_KRANTEN/47/KRAN...</td>\n",
       "      <td>1960-02-25</td>\n",
       "      <td>131</td>\n",
       "      <td>In Nederland voorlopig geen kernenergiecentrales</td>\n",
       "      <td>Prof. Van Lier aanvaardt ambt aan t.h.-Delft P...</td>\n",
       "      <td>NaN</td>\n",
       "      <td>1178</td>\n",
       "      <td>184</td>\n",
       "    </tr>\n",
       "    <tr>\n",
       "      <th>2</th>\n",
       "      <td>../data/converted/2022_harvest_KRANTEN/47/KRAN...</td>\n",
       "      <td>1960-02-25</td>\n",
       "      <td>131</td>\n",
       "      <td>In Nederland voorlopig geen kernenergiecentrales</td>\n",
       "      <td>meer het geval zijn. De kernenergie- ?P centra...</td>\n",
       "      <td>NaN</td>\n",
       "      <td>3254</td>\n",
       "      <td>551</td>\n",
       "    </tr>\n",
       "    <tr>\n",
       "      <th>3</th>\n",
       "      <td>../data/converted/2022_harvest_KRANTEN/47/KRAN...</td>\n",
       "      <td>1960-02-25</td>\n",
       "      <td>131</td>\n",
       "      <td>In Nederland voorlopig geen kernenergiecentrales</td>\n",
       "      <td>Minister Marijnen niet te vermurwen (Van onze ...</td>\n",
       "      <td>NaN</td>\n",
       "      <td>1503</td>\n",
       "      <td>222</td>\n",
       "    </tr>\n",
       "    <tr>\n",
       "      <th>4</th>\n",
       "      <td>../data/converted/2022_harvest_KRANTEN/47/KRAN...</td>\n",
       "      <td>1960-02-25</td>\n",
       "      <td>131</td>\n",
       "      <td>In Nederland voorlopig geen kernenergiecentrales</td>\n",
       "      <td>Centrale training Ned. elftal begint 9 maart D...</td>\n",
       "      <td>NaN</td>\n",
       "      <td>1574</td>\n",
       "      <td>238</td>\n",
       "    </tr>\n",
       "    <tr>\n",
       "      <th>...</th>\n",
       "      <td>...</td>\n",
       "      <td>...</td>\n",
       "      <td>...</td>\n",
       "      <td>...</td>\n",
       "      <td>...</td>\n",
       "      <td>...</td>\n",
       "      <td>...</td>\n",
       "      <td>...</td>\n",
       "    </tr>\n",
       "    <tr>\n",
       "      <th>43590</th>\n",
       "      <td>../data/converted/2022_harvest_KRANTEN/20/KRAN...</td>\n",
       "      <td>1994-11-23</td>\n",
       "      <td>2</td>\n",
       "      <td>Toch besluit kernenergie</td>\n",
       "      <td>sociaal-democraten Van Heemst en Woltjer zitte...</td>\n",
       "      <td>NaN</td>\n",
       "      <td>657</td>\n",
       "      <td>99</td>\n",
       "    </tr>\n",
       "    <tr>\n",
       "      <th>43591</th>\n",
       "      <td>../data/converted/2022_harvest_KRANTEN/27/KRAN...</td>\n",
       "      <td>1994-03-31</td>\n",
       "      <td>24</td>\n",
       "      <td>NUCLEAIRE TIJDBOM TIKT DOOR</td>\n",
       "      <td>door PETER D’HAMECOURT MOSKOU — Een nucleaire ...</td>\n",
       "      <td>NaN</td>\n",
       "      <td>2678</td>\n",
       "      <td>423</td>\n",
       "    </tr>\n",
       "    <tr>\n",
       "      <th>43592</th>\n",
       "      <td>../data/converted/2022_harvest_KRANTEN/27/KRAN...</td>\n",
       "      <td>1994-03-31</td>\n",
       "      <td>24</td>\n",
       "      <td>NUCLEAIRE TIJDBOM TIKT DOOR</td>\n",
       "      <td>de burelen van de Moskouse ministeries die bel...</td>\n",
       "      <td>NaN</td>\n",
       "      <td>809</td>\n",
       "      <td>115</td>\n",
       "    </tr>\n",
       "    <tr>\n",
       "      <th>43593</th>\n",
       "      <td>../data/converted/2022_harvest_KRANTEN/27/KRAN...</td>\n",
       "      <td>1994-03-31</td>\n",
       "      <td>24</td>\n",
       "      <td>NUCLEAIRE TIJDBOM TIKT DOOR</td>\n",
       "      <td>groep van experts van het milieuministerie de ...</td>\n",
       "      <td>NaN</td>\n",
       "      <td>842</td>\n",
       "      <td>134</td>\n",
       "    </tr>\n",
       "    <tr>\n",
       "      <th>43594</th>\n",
       "      <td>../data/converted/2022_harvest_KRANTEN/27/KRAN...</td>\n",
       "      <td>1994-03-31</td>\n",
       "      <td>24</td>\n",
       "      <td>NUCLEAIRE TIJDBOM TIKT DOOR</td>\n",
       "      <td>experts geloven niet dat de zee rond de ‘Komso...</td>\n",
       "      <td>NaN</td>\n",
       "      <td>762</td>\n",
       "      <td>125</td>\n",
       "    </tr>\n",
       "  </tbody>\n",
       "</table>\n",
       "<p>43595 rows × 8 columns</p>\n",
       "</div>"
      ],
      "text/plain": [
       "                                               file_path        date  \\\n",
       "0      ../data/converted/2022_harvest_KRANTEN/47/KRAN...  1966-06-27   \n",
       "1      ../data/converted/2022_harvest_KRANTEN/47/KRAN...  1960-02-25   \n",
       "2      ../data/converted/2022_harvest_KRANTEN/47/KRAN...  1960-02-25   \n",
       "3      ../data/converted/2022_harvest_KRANTEN/47/KRAN...  1960-02-25   \n",
       "4      ../data/converted/2022_harvest_KRANTEN/47/KRAN...  1960-02-25   \n",
       "...                                                  ...         ...   \n",
       "43590  ../data/converted/2022_harvest_KRANTEN/20/KRAN...  1994-11-23   \n",
       "43591  ../data/converted/2022_harvest_KRANTEN/27/KRAN...  1994-03-31   \n",
       "43592  ../data/converted/2022_harvest_KRANTEN/27/KRAN...  1994-03-31   \n",
       "43593  ../data/converted/2022_harvest_KRANTEN/27/KRAN...  1994-03-31   \n",
       "43594  ../data/converted/2022_harvest_KRANTEN/27/KRAN...  1994-03-31   \n",
       "\n",
       "       article_id                                             title  \\\n",
       "0              45           Produktie kernenergie stijgt razendsnel   \n",
       "1             131  In Nederland voorlopig geen kernenergiecentrales   \n",
       "2             131  In Nederland voorlopig geen kernenergiecentrales   \n",
       "3             131  In Nederland voorlopig geen kernenergiecentrales   \n",
       "4             131  In Nederland voorlopig geen kernenergiecentrales   \n",
       "...           ...                                               ...   \n",
       "43590           2                          Toch besluit kernenergie   \n",
       "43591          24                       NUCLEAIRE TIJDBOM TIKT DOOR   \n",
       "43592          24                       NUCLEAIRE TIJDBOM TIKT DOOR   \n",
       "43593          24                       NUCLEAIRE TIJDBOM TIKT DOOR   \n",
       "43594          24                       NUCLEAIRE TIJDBOM TIKT DOOR   \n",
       "\n",
       "                                                    body  label  body_length  \\\n",
       "0      BOEDAPEST (ÜPI) — Omstreeks l»»u zullen kernce...    NaN          736   \n",
       "1      Prof. Van Lier aanvaardt ambt aan t.h.-Delft P...    NaN         1178   \n",
       "2      meer het geval zijn. De kernenergie- ?P centra...    NaN         3254   \n",
       "3      Minister Marijnen niet te vermurwen (Van onze ...    NaN         1503   \n",
       "4      Centrale training Ned. elftal begint 9 maart D...    NaN         1574   \n",
       "...                                                  ...    ...          ...   \n",
       "43590  sociaal-democraten Van Heemst en Woltjer zitte...    NaN          657   \n",
       "43591  door PETER D’HAMECOURT MOSKOU — Een nucleaire ...    NaN         2678   \n",
       "43592  de burelen van de Moskouse ministeries die bel...    NaN          809   \n",
       "43593  groep van experts van het milieuministerie de ...    NaN          842   \n",
       "43594  experts geloven niet dat de zee rond de ‘Komso...    NaN          762   \n",
       "\n",
       "       word_count  \n",
       "0             110  \n",
       "1             184  \n",
       "2             551  \n",
       "3             222  \n",
       "4             238  \n",
       "...           ...  \n",
       "43590          99  \n",
       "43591         423  \n",
       "43592         115  \n",
       "43593         134  \n",
       "43594         125  \n",
       "\n",
       "[43595 rows x 8 columns]"
      ]
     },
     "execution_count": 55,
     "metadata": {},
     "output_type": "execute_result"
    }
   ],
   "source": [
    "combined"
   ]
  },
  {
   "cell_type": "code",
   "execution_count": 56,
   "id": "f7a5f287-05d0-4c1b-ab37-b81758172061",
   "metadata": {},
   "outputs": [
    {
     "name": "stdout",
     "output_type": "stream",
     "text": [
      "Body length — min: 200, max: 31664, avg: 643.1\n"
     ]
    }
   ],
   "source": [
    "lengths = combined[\"body\"].astype(str).str.len()\n",
    "\n",
    "min_len = combined['body_length'].min()\n",
    "max_len = combined['body_length'].max()\n",
    "avg_len = combined['body_length'].mean()\n",
    "\n",
    "print(f\"Body length — min: {min_len}, max: {max_len}, avg: {avg_len:.1f}\")\n"
   ]
  },
  {
   "cell_type": "code",
   "execution_count": 57,
   "id": "93badf99-ea98-4654-ae5a-8a566ee682b0",
   "metadata": {},
   "outputs": [
    {
     "name": "stdout",
     "output_type": "stream",
     "text": [
      "Body words — min: 22, max: 5079, avg: 98.7\n"
     ]
    }
   ],
   "source": [
    "lengths = combined[\"body\"].astype(str).str.len()\n",
    "\n",
    "min_len = combined['word_count'].min()\n",
    "max_len = combined['word_count'].max()\n",
    "avg_len = combined['word_count'].mean()\n",
    "\n",
    "print(f\"Body words — min: {min_len}, max: {max_len}, avg: {avg_len:.1f}\")\n"
   ]
  },
  {
   "cell_type": "code",
   "execution_count": 58,
   "id": "5ab37023-5ec1-4656-8497-39011396734d",
   "metadata": {},
   "outputs": [
    {
     "data": {
      "text/html": [
       "<div>\n",
       "<style scoped>\n",
       "    .dataframe tbody tr th:only-of-type {\n",
       "        vertical-align: middle;\n",
       "    }\n",
       "\n",
       "    .dataframe tbody tr th {\n",
       "        vertical-align: top;\n",
       "    }\n",
       "\n",
       "    .dataframe thead th {\n",
       "        text-align: right;\n",
       "    }\n",
       "</style>\n",
       "<table border=\"1\" class=\"dataframe\">\n",
       "  <thead>\n",
       "    <tr style=\"text-align: right;\">\n",
       "      <th></th>\n",
       "      <th>file_path</th>\n",
       "      <th>date</th>\n",
       "      <th>article_id</th>\n",
       "      <th>title</th>\n",
       "      <th>body</th>\n",
       "      <th>label</th>\n",
       "      <th>body_length</th>\n",
       "      <th>word_count</th>\n",
       "    </tr>\n",
       "  </thead>\n",
       "  <tbody>\n",
       "    <tr>\n",
       "      <th>0</th>\n",
       "      <td>../data/converted/2022_harvest_KRANTEN/47/KRAN...</td>\n",
       "      <td>1966-06-27</td>\n",
       "      <td>45</td>\n",
       "      <td>Produktie kernenergie stijgt razendsnel</td>\n",
       "      <td>BOEDAPEST (ÜPI) — Omstreeks l»»u zullen kernce...</td>\n",
       "      <td>NaN</td>\n",
       "      <td>736</td>\n",
       "      <td>110</td>\n",
       "    </tr>\n",
       "    <tr>\n",
       "      <th>1</th>\n",
       "      <td>../data/converted/2022_harvest_KRANTEN/47/KRAN...</td>\n",
       "      <td>1960-02-25</td>\n",
       "      <td>131</td>\n",
       "      <td>In Nederland voorlopig geen kernenergiecentrales</td>\n",
       "      <td>Prof. Van Lier aanvaardt ambt aan t.h.-Delft P...</td>\n",
       "      <td>NaN</td>\n",
       "      <td>1178</td>\n",
       "      <td>184</td>\n",
       "    </tr>\n",
       "    <tr>\n",
       "      <th>3</th>\n",
       "      <td>../data/converted/2022_harvest_KRANTEN/47/KRAN...</td>\n",
       "      <td>1960-02-25</td>\n",
       "      <td>131</td>\n",
       "      <td>In Nederland voorlopig geen kernenergiecentrales</td>\n",
       "      <td>Minister Marijnen niet te vermurwen (Van onze ...</td>\n",
       "      <td>NaN</td>\n",
       "      <td>1503</td>\n",
       "      <td>222</td>\n",
       "    </tr>\n",
       "    <tr>\n",
       "      <th>4</th>\n",
       "      <td>../data/converted/2022_harvest_KRANTEN/47/KRAN...</td>\n",
       "      <td>1960-02-25</td>\n",
       "      <td>131</td>\n",
       "      <td>In Nederland voorlopig geen kernenergiecentrales</td>\n",
       "      <td>Centrale training Ned. elftal begint 9 maart D...</td>\n",
       "      <td>NaN</td>\n",
       "      <td>1574</td>\n",
       "      <td>238</td>\n",
       "    </tr>\n",
       "    <tr>\n",
       "      <th>5</th>\n",
       "      <td>../data/converted/2022_harvest_KRANTEN/47/KRAN...</td>\n",
       "      <td>1960-02-25</td>\n",
       "      <td>131</td>\n",
       "      <td>In Nederland voorlopig geen kernenergiecentrales</td>\n",
       "      <td>Gedaagde tekenaar van • naakt kreeg vrijspraak...</td>\n",
       "      <td>NaN</td>\n",
       "      <td>1624</td>\n",
       "      <td>268</td>\n",
       "    </tr>\n",
       "    <tr>\n",
       "      <th>...</th>\n",
       "      <td>...</td>\n",
       "      <td>...</td>\n",
       "      <td>...</td>\n",
       "      <td>...</td>\n",
       "      <td>...</td>\n",
       "      <td>...</td>\n",
       "      <td>...</td>\n",
       "      <td>...</td>\n",
       "    </tr>\n",
       "    <tr>\n",
       "      <th>43589</th>\n",
       "      <td>../data/converted/2022_harvest_KRANTEN/20/KRAN...</td>\n",
       "      <td>1994-11-23</td>\n",
       "      <td>2</td>\n",
       "      <td>Toch besluit kernenergie</td>\n",
       "      <td>VERVOLG VAN PAGINA 1 De stemming van vandaag i...</td>\n",
       "      <td>NaN</td>\n",
       "      <td>591</td>\n",
       "      <td>102</td>\n",
       "    </tr>\n",
       "    <tr>\n",
       "      <th>43590</th>\n",
       "      <td>../data/converted/2022_harvest_KRANTEN/20/KRAN...</td>\n",
       "      <td>1994-11-23</td>\n",
       "      <td>2</td>\n",
       "      <td>Toch besluit kernenergie</td>\n",
       "      <td>sociaal-democraten Van Heemst en Woltjer zitte...</td>\n",
       "      <td>NaN</td>\n",
       "      <td>657</td>\n",
       "      <td>99</td>\n",
       "    </tr>\n",
       "    <tr>\n",
       "      <th>43592</th>\n",
       "      <td>../data/converted/2022_harvest_KRANTEN/27/KRAN...</td>\n",
       "      <td>1994-03-31</td>\n",
       "      <td>24</td>\n",
       "      <td>NUCLEAIRE TIJDBOM TIKT DOOR</td>\n",
       "      <td>de burelen van de Moskouse ministeries die bel...</td>\n",
       "      <td>NaN</td>\n",
       "      <td>809</td>\n",
       "      <td>115</td>\n",
       "    </tr>\n",
       "    <tr>\n",
       "      <th>43593</th>\n",
       "      <td>../data/converted/2022_harvest_KRANTEN/27/KRAN...</td>\n",
       "      <td>1994-03-31</td>\n",
       "      <td>24</td>\n",
       "      <td>NUCLEAIRE TIJDBOM TIKT DOOR</td>\n",
       "      <td>groep van experts van het milieuministerie de ...</td>\n",
       "      <td>NaN</td>\n",
       "      <td>842</td>\n",
       "      <td>134</td>\n",
       "    </tr>\n",
       "    <tr>\n",
       "      <th>43594</th>\n",
       "      <td>../data/converted/2022_harvest_KRANTEN/27/KRAN...</td>\n",
       "      <td>1994-03-31</td>\n",
       "      <td>24</td>\n",
       "      <td>NUCLEAIRE TIJDBOM TIKT DOOR</td>\n",
       "      <td>experts geloven niet dat de zee rond de ‘Komso...</td>\n",
       "      <td>NaN</td>\n",
       "      <td>762</td>\n",
       "      <td>125</td>\n",
       "    </tr>\n",
       "  </tbody>\n",
       "</table>\n",
       "<p>42475 rows × 8 columns</p>\n",
       "</div>"
      ],
      "text/plain": [
       "                                               file_path        date  \\\n",
       "0      ../data/converted/2022_harvest_KRANTEN/47/KRAN...  1966-06-27   \n",
       "1      ../data/converted/2022_harvest_KRANTEN/47/KRAN...  1960-02-25   \n",
       "3      ../data/converted/2022_harvest_KRANTEN/47/KRAN...  1960-02-25   \n",
       "4      ../data/converted/2022_harvest_KRANTEN/47/KRAN...  1960-02-25   \n",
       "5      ../data/converted/2022_harvest_KRANTEN/47/KRAN...  1960-02-25   \n",
       "...                                                  ...         ...   \n",
       "43589  ../data/converted/2022_harvest_KRANTEN/20/KRAN...  1994-11-23   \n",
       "43590  ../data/converted/2022_harvest_KRANTEN/20/KRAN...  1994-11-23   \n",
       "43592  ../data/converted/2022_harvest_KRANTEN/27/KRAN...  1994-03-31   \n",
       "43593  ../data/converted/2022_harvest_KRANTEN/27/KRAN...  1994-03-31   \n",
       "43594  ../data/converted/2022_harvest_KRANTEN/27/KRAN...  1994-03-31   \n",
       "\n",
       "       article_id                                             title  \\\n",
       "0              45           Produktie kernenergie stijgt razendsnel   \n",
       "1             131  In Nederland voorlopig geen kernenergiecentrales   \n",
       "3             131  In Nederland voorlopig geen kernenergiecentrales   \n",
       "4             131  In Nederland voorlopig geen kernenergiecentrales   \n",
       "5             131  In Nederland voorlopig geen kernenergiecentrales   \n",
       "...           ...                                               ...   \n",
       "43589           2                          Toch besluit kernenergie   \n",
       "43590           2                          Toch besluit kernenergie   \n",
       "43592          24                       NUCLEAIRE TIJDBOM TIKT DOOR   \n",
       "43593          24                       NUCLEAIRE TIJDBOM TIKT DOOR   \n",
       "43594          24                       NUCLEAIRE TIJDBOM TIKT DOOR   \n",
       "\n",
       "                                                    body  label  body_length  \\\n",
       "0      BOEDAPEST (ÜPI) — Omstreeks l»»u zullen kernce...    NaN          736   \n",
       "1      Prof. Van Lier aanvaardt ambt aan t.h.-Delft P...    NaN         1178   \n",
       "3      Minister Marijnen niet te vermurwen (Van onze ...    NaN         1503   \n",
       "4      Centrale training Ned. elftal begint 9 maart D...    NaN         1574   \n",
       "5      Gedaagde tekenaar van • naakt kreeg vrijspraak...    NaN         1624   \n",
       "...                                                  ...    ...          ...   \n",
       "43589  VERVOLG VAN PAGINA 1 De stemming van vandaag i...    NaN          591   \n",
       "43590  sociaal-democraten Van Heemst en Woltjer zitte...    NaN          657   \n",
       "43592  de burelen van de Moskouse ministeries die bel...    NaN          809   \n",
       "43593  groep van experts van het milieuministerie de ...    NaN          842   \n",
       "43594  experts geloven niet dat de zee rond de ‘Komso...    NaN          762   \n",
       "\n",
       "       word_count  \n",
       "0             110  \n",
       "1             184  \n",
       "3             222  \n",
       "4             238  \n",
       "5             268  \n",
       "...           ...  \n",
       "43589         102  \n",
       "43590          99  \n",
       "43592         115  \n",
       "43593         134  \n",
       "43594         125  \n",
       "\n",
       "[42475 rows x 8 columns]"
      ]
     },
     "execution_count": 58,
     "metadata": {},
     "output_type": "execute_result"
    }
   ],
   "source": [
    "combined[combined['word_count']<340]"
   ]
  },
  {
   "cell_type": "code",
   "execution_count": 59,
   "id": "175c7071-d725-4775-b4af-da1dba8619eb",
   "metadata": {},
   "outputs": [],
   "source": [
    "df_sample = combined[combined['word_count']<340].sample(n=10000, random_state=42)  # random_state for reproducibility\n",
    "df_sample['date'] = pd.to_datetime(df_sample['date'], errors='coerce')\n",
    "df_sample['decade'] = (df_sample['date'].dt.year// 10) *10\n",
    "df_sample['energy_resource']= 'nuclear energy'\n",
    "df_sample.rename(columns={'body': 'text'}, inplace=True)\n"
   ]
  },
  {
   "cell_type": "code",
   "execution_count": 60,
   "id": "b77da042-265f-44c9-b5b0-0c34acd87ade",
   "metadata": {},
   "outputs": [],
   "source": [
    "df_sample.to_csv(input_dir / \"sample_340words.csv\", index=False, encoding=\"utf-8\")"
   ]
  },
  {
   "cell_type": "code",
   "execution_count": 61,
   "id": "5437331f-6ebf-4cb3-9839-62c39f778d62",
   "metadata": {},
   "outputs": [
    {
     "data": {
      "text/plain": [
       "88.362"
      ]
     },
     "execution_count": 61,
     "metadata": {},
     "output_type": "execute_result"
    }
   ],
   "source": [
    "df_sample['word_count'].mean()"
   ]
  },
  {
   "cell_type": "markdown",
   "id": "ba24046a-2770-4c9a-b21e-acd901a0e408",
   "metadata": {},
   "source": [
    "So let's say 115 tokens in average for 88 words"
   ]
  },
  {
   "cell_type": "code",
   "execution_count": 19,
   "id": "586c992b-ccb7-4f7a-8841-620b9d1af669",
   "metadata": {},
   "outputs": [
    {
     "data": {
      "text/html": [
       "<div>\n",
       "<style scoped>\n",
       "    .dataframe tbody tr th:only-of-type {\n",
       "        vertical-align: middle;\n",
       "    }\n",
       "\n",
       "    .dataframe tbody tr th {\n",
       "        vertical-align: top;\n",
       "    }\n",
       "\n",
       "    .dataframe thead th {\n",
       "        text-align: right;\n",
       "    }\n",
       "</style>\n",
       "<table border=\"1\" class=\"dataframe\">\n",
       "  <thead>\n",
       "    <tr style=\"text-align: right;\">\n",
       "      <th></th>\n",
       "      <th>file_path</th>\n",
       "      <th>date</th>\n",
       "      <th>article_id</th>\n",
       "      <th>title</th>\n",
       "      <th>body</th>\n",
       "      <th>label</th>\n",
       "      <th>body_length</th>\n",
       "      <th>word_count</th>\n",
       "    </tr>\n",
       "  </thead>\n",
       "  <tbody>\n",
       "    <tr>\n",
       "      <th>10179</th>\n",
       "      <td>../data/converted/2022_harvest_DDD/05/DDD_0109...</td>\n",
       "      <td>1977-04-07</td>\n",
       "      <td>259</td>\n",
       "      <td>Eerst akkoord over voorwaarden Canada streng b...</td>\n",
       "      <td>v OTTAWA' - Canada\"-lis voorlopig '.nog niet v...</td>\n",
       "      <td>NaN</td>\n",
       "      <td>1219</td>\n",
       "      <td>184</td>\n",
       "    </tr>\n",
       "    <tr>\n",
       "      <th>34224</th>\n",
       "      <td>../data/converted/2022_harvest_DDD/80/DDD_0105...</td>\n",
       "      <td>1980-04-29</td>\n",
       "      <td>64</td>\n",
       "      <td>Kernenergie</td>\n",
       "      <td>De algemene vergadering aanvaardde ook een mot...</td>\n",
       "      <td>NaN</td>\n",
       "      <td>249</td>\n",
       "      <td>39</td>\n",
       "    </tr>\n",
       "    <tr>\n",
       "      <th>702</th>\n",
       "      <td>../data/converted/2022_harvest_KRANTEN/12/KRAN...</td>\n",
       "      <td>1979-10-13</td>\n",
       "      <td>42</td>\n",
       "      <td>Drenthe tegen kerncentrale</td>\n",
       "      <td>ASSEN - Gedeputeerde staten van Drenthe hebben...</td>\n",
       "      <td>NaN</td>\n",
       "      <td>285</td>\n",
       "      <td>49</td>\n",
       "    </tr>\n",
       "    <tr>\n",
       "      <th>4463</th>\n",
       "      <td>../data/converted/2022_harvest_DDD/94/DDD_0112...</td>\n",
       "      <td>1963-08-31</td>\n",
       "      <td>403</td>\n",
       "      <td>Kernenergie nog vóór 1970 rendabel</td>\n",
       "      <td>Van onze redacteur wetenschappen AMSTERDAM, za...</td>\n",
       "      <td>NaN</td>\n",
       "      <td>455</td>\n",
       "      <td>67</td>\n",
       "    </tr>\n",
       "    <tr>\n",
       "      <th>12477</th>\n",
       "      <td>../data/converted/2022_harvest_DDD/66/DDD_0110...</td>\n",
       "      <td>1979-10-30</td>\n",
       "      <td>186</td>\n",
       "      <td>Centrale van ruim miljard staat ongebruikt Oos...</td>\n",
       "      <td>De in de oppositie zijnde conservatieve Oosten...</td>\n",
       "      <td>NaN</td>\n",
       "      <td>434</td>\n",
       "      <td>65</td>\n",
       "    </tr>\n",
       "  </tbody>\n",
       "</table>\n",
       "</div>"
      ],
      "text/plain": [
       "                                               file_path        date  \\\n",
       "10179  ../data/converted/2022_harvest_DDD/05/DDD_0109...  1977-04-07   \n",
       "34224  ../data/converted/2022_harvest_DDD/80/DDD_0105...  1980-04-29   \n",
       "702    ../data/converted/2022_harvest_KRANTEN/12/KRAN...  1979-10-13   \n",
       "4463   ../data/converted/2022_harvest_DDD/94/DDD_0112...  1963-08-31   \n",
       "12477  ../data/converted/2022_harvest_DDD/66/DDD_0110...  1979-10-30   \n",
       "\n",
       "       article_id                                              title  \\\n",
       "10179         259  Eerst akkoord over voorwaarden Canada streng b...   \n",
       "34224          64                                        Kernenergie   \n",
       "702            42                         Drenthe tegen kerncentrale   \n",
       "4463          403                 Kernenergie nog vóór 1970 rendabel   \n",
       "12477         186  Centrale van ruim miljard staat ongebruikt Oos...   \n",
       "\n",
       "                                                    body  label  body_length  \\\n",
       "10179  v OTTAWA' - Canada\"-lis voorlopig '.nog niet v...    NaN         1219   \n",
       "34224  De algemene vergadering aanvaardde ook een mot...    NaN          249   \n",
       "702    ASSEN - Gedeputeerde staten van Drenthe hebben...    NaN          285   \n",
       "4463   Van onze redacteur wetenschappen AMSTERDAM, za...    NaN          455   \n",
       "12477  De in de oppositie zijnde conservatieve Oosten...    NaN          434   \n",
       "\n",
       "       word_count  \n",
       "10179         184  \n",
       "34224          39  \n",
       "702            49  \n",
       "4463           67  \n",
       "12477          65  "
      ]
     },
     "execution_count": 19,
     "metadata": {},
     "output_type": "execute_result"
    }
   ],
   "source": [
    "df_sample.head()"
   ]
  },
  {
   "cell_type": "code",
   "execution_count": 20,
   "id": "0c521980-b0b0-4cd7-9627-715329da1603",
   "metadata": {},
   "outputs": [
    {
     "name": "stdout",
     "output_type": "stream",
     "text": [
      "decade\n",
      "1960    1504\n",
      "1970    3105\n",
      "1980    4193\n",
      "1990    1198\n",
      "Name: count, dtype: int64\n"
     ]
    }
   ],
   "source": [
    "# Convert to datetime format\n",
    "df_sample['date'] = pd.to_datetime(df_sample['date'])\n",
    "\n",
    "# Create a new column for the decade\n",
    "df_sample['decade'] = (df_sample['date'].dt.year // 10) * 10\n",
    "\n",
    "# Count rows per decade\n",
    "decade_counts = df_sample['decade'].value_counts().sort_index()\n",
    "\n",
    "print(decade_counts)"
   ]
  },
  {
   "cell_type": "code",
   "execution_count": 21,
   "id": "137de14a-3dc4-4a21-a5cd-ac0dfc24547d",
   "metadata": {},
   "outputs": [
    {
     "name": "stdout",
     "output_type": "stream",
     "text": [
      "decade\n",
      "1960     6358\n",
      "1970    13604\n",
      "1980    18556\n",
      "1990     5077\n",
      "Name: count, dtype: int64\n"
     ]
    }
   ],
   "source": [
    "combined['date'] = pd.to_datetime(combined['date'])\n",
    "\n",
    "# Create a new column for the decade\n",
    "combined['decade'] = (combined['date'].dt.year // 10) * 10\n",
    "\n",
    "# Count rows per decade\n",
    "decade_counts = combined['decade'].value_counts().sort_index()\n",
    "\n",
    "print(decade_counts)"
   ]
  },
  {
   "cell_type": "markdown",
   "id": "d101200d-9b58-4981-9466-4b5285756a5e",
   "metadata": {},
   "source": [
    "## Renewable energy"
   ]
  },
  {
   "cell_type": "code",
   "execution_count": 62,
   "id": "8529b4cb-3325-4b5c-8f92-83a455387c20",
   "metadata": {},
   "outputs": [
    {
     "name": "stdout",
     "output_type": "stream",
     "text": [
      "[PosixPath('../../output_renewable/all/to_label_articles_1960.csv'), PosixPath('../../output_renewable/all/to_label_articles_1970.csv'), PosixPath('../../output_renewable/all/to_label_articles_1960_ddd.csv'), PosixPath('../../output_renewable/all/to_label_articles_1970_ddd.csv'), PosixPath('../../output_renewable/all/to_label_articles_1980_ddd.csv'), PosixPath('../../output_renewable/all/to_label_articles_1990_ddd.csv'), PosixPath('../../output_renewable/all/to_label_articles_1980.csv'), PosixPath('../../output_renewable/all/to_label_articles_1990.csv')]\n"
     ]
    }
   ],
   "source": [
    "input_dir = Path(\"../../output_renewable/all/\")\n",
    "csv_files = list(input_dir.glob(\"*.csv\"))\n",
    "print(csv_files)\n",
    "dfs = []\n",
    "for fp in csv_files:\n",
    "    df = pd.read_csv(fp)\n",
    "    df = df[[\"file_path\", \"date\", \"article_id\", \"title\", \"body\", \"label\"]]\n",
    "    dfs.append(df)\n",
    "\n",
    "combined = pd.concat(dfs, ignore_index=True)\n",
    "\n",
    "#combined.to_csv(input_dir / \"combined_all.csv\", index=False, encoding=\"utf-8\")\n"
   ]
  },
  {
   "cell_type": "code",
   "execution_count": 63,
   "id": "8e5caa6c-fb1d-40f6-bd83-37b75ca1879a",
   "metadata": {},
   "outputs": [],
   "source": [
    "combined['body_length'] = combined['body'].str.len()\n",
    "combined['word_count'] = combined['body'].str.split().apply(len)"
   ]
  },
  {
   "cell_type": "code",
   "execution_count": 64,
   "id": "77d32b03-77b2-4e72-b79c-aa9666c4e91e",
   "metadata": {},
   "outputs": [
    {
     "data": {
      "text/plain": [
       "(7389, 8)"
      ]
     },
     "execution_count": 64,
     "metadata": {},
     "output_type": "execute_result"
    }
   ],
   "source": [
    "combined.shape"
   ]
  },
  {
   "cell_type": "code",
   "execution_count": 65,
   "id": "90e9d58f-2416-4a27-ab64-9b4551dc80bf",
   "metadata": {},
   "outputs": [
    {
     "name": "stdout",
     "output_type": "stream",
     "text": [
      "Body length — min: 200, max: 16974, avg: 672.9\n"
     ]
    }
   ],
   "source": [
    "lengths = combined[\"body\"].astype(str).str.len()\n",
    "\n",
    "min_len = combined['body_length'].min()\n",
    "max_len = combined['body_length'].max()\n",
    "avg_len = combined['body_length'].mean()\n",
    "\n",
    "print(f\"Body length — min: {min_len}, max: {max_len}, avg: {avg_len:.1f}\")"
   ]
  },
  {
   "cell_type": "code",
   "execution_count": 66,
   "id": "d7ad0976-6d2d-4d4f-99a8-81db7d7febc8",
   "metadata": {},
   "outputs": [
    {
     "name": "stdout",
     "output_type": "stream",
     "text": [
      "Body words — min: 24, max: 2632, avg: 105.3\n"
     ]
    }
   ],
   "source": [
    "lengths = combined[\"body\"].astype(str).str.len()\n",
    "\n",
    "min_len = combined['word_count'].min()\n",
    "max_len = combined['word_count'].max()\n",
    "avg_len = combined['word_count'].mean()\n",
    "\n",
    "print(f\"Body words — min: {min_len}, max: {max_len}, avg: {avg_len:.1f}\")"
   ]
  },
  {
   "cell_type": "code",
   "execution_count": 67,
   "id": "341836dc-ada4-47bd-91a4-c210ab1e552d",
   "metadata": {},
   "outputs": [
    {
     "data": {
      "text/html": [
       "<div>\n",
       "<style scoped>\n",
       "    .dataframe tbody tr th:only-of-type {\n",
       "        vertical-align: middle;\n",
       "    }\n",
       "\n",
       "    .dataframe tbody tr th {\n",
       "        vertical-align: top;\n",
       "    }\n",
       "\n",
       "    .dataframe thead th {\n",
       "        text-align: right;\n",
       "    }\n",
       "</style>\n",
       "<table border=\"1\" class=\"dataframe\">\n",
       "  <thead>\n",
       "    <tr style=\"text-align: right;\">\n",
       "      <th></th>\n",
       "      <th>file_path</th>\n",
       "      <th>date</th>\n",
       "      <th>article_id</th>\n",
       "      <th>title</th>\n",
       "      <th>body</th>\n",
       "      <th>label</th>\n",
       "      <th>body_length</th>\n",
       "      <th>word_count</th>\n",
       "    </tr>\n",
       "  </thead>\n",
       "  <tbody>\n",
       "    <tr>\n",
       "      <th>0</th>\n",
       "      <td>../data-shiva/converted/2022_harvest_KRANTEN/0...</td>\n",
       "      <td>1966-10-04</td>\n",
       "      <td>115</td>\n",
       "      <td>GROOTS PERSPECTIEF VOOR STIRLING MOTOR</td>\n",
       "      <td>OXFORD — Voortgang makend op een zeer breed fr...</td>\n",
       "      <td>NaN</td>\n",
       "      <td>2926</td>\n",
       "      <td>415</td>\n",
       "    </tr>\n",
       "    <tr>\n",
       "      <th>34</th>\n",
       "      <td>../data-shiva/converted/2022_harvest_KRANTEN/2...</td>\n",
       "      <td>1961-01-26</td>\n",
       "      <td>238</td>\n",
       "      <td>INDIË VERBAASDE VER. STATEN MET WATERSTOFENERGIE</td>\n",
       "      <td>Indrukwekkende reuzensprong Van onze redacteur...</td>\n",
       "      <td>NaN</td>\n",
       "      <td>2990</td>\n",
       "      <td>454</td>\n",
       "    </tr>\n",
       "    <tr>\n",
       "      <th>37</th>\n",
       "      <td>../data-shiva/converted/2022_harvest_KRANTEN/2...</td>\n",
       "      <td>1963-07-27</td>\n",
       "      <td>194</td>\n",
       "      <td>OPERATIE - SYNCOM</td>\n",
       "      <td>Zodra de Syncom 2 zijn bijna sta tionaire plaa...</td>\n",
       "      <td>NaN</td>\n",
       "      <td>3434</td>\n",
       "      <td>561</td>\n",
       "    </tr>\n",
       "    <tr>\n",
       "      <th>48</th>\n",
       "      <td>../data-shiva/converted/2022_harvest_KRANTEN/2...</td>\n",
       "      <td>1968-01-24</td>\n",
       "      <td>96</td>\n",
       "      <td>Amerika zoekt naar vier verloren waterstofbommen</td>\n",
       "      <td>WASHINGTON (Reuter I — J|et hondesleden, fakke...</td>\n",
       "      <td>NaN</td>\n",
       "      <td>2498</td>\n",
       "      <td>387</td>\n",
       "    </tr>\n",
       "    <tr>\n",
       "      <th>54</th>\n",
       "      <td>../data-shiva/converted/2022_harvest_KRANTEN/1...</td>\n",
       "      <td>1963-01-12</td>\n",
       "      <td>141</td>\n",
       "      <td>FRANSEN GAAN WATERSTOFBOM PROBEREN</td>\n",
       "      <td>PROBEREN i- Volgens kringen, die in nauw '0 Co...</td>\n",
       "      <td>NaN</td>\n",
       "      <td>2328</td>\n",
       "      <td>414</td>\n",
       "    </tr>\n",
       "    <tr>\n",
       "      <th>...</th>\n",
       "      <td>...</td>\n",
       "      <td>...</td>\n",
       "      <td>...</td>\n",
       "      <td>...</td>\n",
       "      <td>...</td>\n",
       "      <td>...</td>\n",
       "      <td>...</td>\n",
       "      <td>...</td>\n",
       "    </tr>\n",
       "    <tr>\n",
       "      <th>7327</th>\n",
       "      <td>../data-shiva/converted/2022_harvest_KRANTEN/2...</td>\n",
       "      <td>1990-10-23</td>\n",
       "      <td>29</td>\n",
       "      <td>Statiegeld is zo gek nog niet</td>\n",
       "      <td>auDieus is, oi de sloper bij die zeldzame gele...</td>\n",
       "      <td>NaN</td>\n",
       "      <td>2969</td>\n",
       "      <td>438</td>\n",
       "    </tr>\n",
       "    <tr>\n",
       "      <th>7338</th>\n",
       "      <td>../data-shiva/converted/2022_harvest_KRANTEN/2...</td>\n",
       "      <td>1992-04-24</td>\n",
       "      <td>140</td>\n",
       "      <td>GUADALAJARA ZOEKT SCHULDIGEN</td>\n",
       "      <td>„Guadalajara wil dat de schuldigen worden bere...</td>\n",
       "      <td>NaN</td>\n",
       "      <td>2401</td>\n",
       "      <td>361</td>\n",
       "    </tr>\n",
       "    <tr>\n",
       "      <th>7354</th>\n",
       "      <td>../data-shiva/converted/2022_harvest_KRANTEN/1...</td>\n",
       "      <td>1990-11-15</td>\n",
       "      <td>96</td>\n",
       "      <td>HET WEER</td>\n",
       "      <td>Weerrapporten a m m n van gisteravond 20 uur c...</td>\n",
       "      <td>NaN</td>\n",
       "      <td>1642</td>\n",
       "      <td>416</td>\n",
       "    </tr>\n",
       "    <tr>\n",
       "      <th>7358</th>\n",
       "      <td>../data-shiva/converted/2022_harvest_KRANTEN/1...</td>\n",
       "      <td>1993-06-14</td>\n",
       "      <td>33</td>\n",
       "      <td>HET WEER</td>\n",
       "      <td>neerslag van 20 tot 20 uur S 3 n.o. = niet ont...</td>\n",
       "      <td>NaN</td>\n",
       "      <td>1542</td>\n",
       "      <td>396</td>\n",
       "    </tr>\n",
       "    <tr>\n",
       "      <th>7377</th>\n",
       "      <td>../data-shiva/converted/2022_harvest_KRANTEN/1...</td>\n",
       "      <td>1994-12-17</td>\n",
       "      <td>245</td>\n",
       "      <td>Vandaag</td>\n",
       "      <td>gisteren weer wind m/s ïau neersi • 0° wzw 3 5...</td>\n",
       "      <td>NaN</td>\n",
       "      <td>2823</td>\n",
       "      <td>714</td>\n",
       "    </tr>\n",
       "  </tbody>\n",
       "</table>\n",
       "<p>243 rows × 8 columns</p>\n",
       "</div>"
      ],
      "text/plain": [
       "                                              file_path        date  \\\n",
       "0     ../data-shiva/converted/2022_harvest_KRANTEN/0...  1966-10-04   \n",
       "34    ../data-shiva/converted/2022_harvest_KRANTEN/2...  1961-01-26   \n",
       "37    ../data-shiva/converted/2022_harvest_KRANTEN/2...  1963-07-27   \n",
       "48    ../data-shiva/converted/2022_harvest_KRANTEN/2...  1968-01-24   \n",
       "54    ../data-shiva/converted/2022_harvest_KRANTEN/1...  1963-01-12   \n",
       "...                                                 ...         ...   \n",
       "7327  ../data-shiva/converted/2022_harvest_KRANTEN/2...  1990-10-23   \n",
       "7338  ../data-shiva/converted/2022_harvest_KRANTEN/2...  1992-04-24   \n",
       "7354  ../data-shiva/converted/2022_harvest_KRANTEN/1...  1990-11-15   \n",
       "7358  ../data-shiva/converted/2022_harvest_KRANTEN/1...  1993-06-14   \n",
       "7377  ../data-shiva/converted/2022_harvest_KRANTEN/1...  1994-12-17   \n",
       "\n",
       "      article_id                                             title  \\\n",
       "0            115            GROOTS PERSPECTIEF VOOR STIRLING MOTOR   \n",
       "34           238  INDIË VERBAASDE VER. STATEN MET WATERSTOFENERGIE   \n",
       "37           194                                 OPERATIE - SYNCOM   \n",
       "48            96  Amerika zoekt naar vier verloren waterstofbommen   \n",
       "54           141                FRANSEN GAAN WATERSTOFBOM PROBEREN   \n",
       "...          ...                                               ...   \n",
       "7327          29                     Statiegeld is zo gek nog niet   \n",
       "7338         140                      GUADALAJARA ZOEKT SCHULDIGEN   \n",
       "7354          96                                          HET WEER   \n",
       "7358          33                                          HET WEER   \n",
       "7377         245                                           Vandaag   \n",
       "\n",
       "                                                   body  label  body_length  \\\n",
       "0     OXFORD — Voortgang makend op een zeer breed fr...    NaN         2926   \n",
       "34    Indrukwekkende reuzensprong Van onze redacteur...    NaN         2990   \n",
       "37    Zodra de Syncom 2 zijn bijna sta tionaire plaa...    NaN         3434   \n",
       "48    WASHINGTON (Reuter I — J|et hondesleden, fakke...    NaN         2498   \n",
       "54    PROBEREN i- Volgens kringen, die in nauw '0 Co...    NaN         2328   \n",
       "...                                                 ...    ...          ...   \n",
       "7327  auDieus is, oi de sloper bij die zeldzame gele...    NaN         2969   \n",
       "7338  „Guadalajara wil dat de schuldigen worden bere...    NaN         2401   \n",
       "7354  Weerrapporten a m m n van gisteravond 20 uur c...    NaN         1642   \n",
       "7358  neerslag van 20 tot 20 uur S 3 n.o. = niet ont...    NaN         1542   \n",
       "7377  gisteren weer wind m/s ïau neersi • 0° wzw 3 5...    NaN         2823   \n",
       "\n",
       "      word_count  \n",
       "0            415  \n",
       "34           454  \n",
       "37           561  \n",
       "48           387  \n",
       "54           414  \n",
       "...          ...  \n",
       "7327         438  \n",
       "7338         361  \n",
       "7354         416  \n",
       "7358         396  \n",
       "7377         714  \n",
       "\n",
       "[243 rows x 8 columns]"
      ]
     },
     "execution_count": 67,
     "metadata": {},
     "output_type": "execute_result"
    }
   ],
   "source": [
    "combined.loc[combined['word_count']>=340,]"
   ]
  },
  {
   "cell_type": "code",
   "execution_count": 68,
   "id": "e4a54cb6-30bc-4d04-8280-5902aa84c8af",
   "metadata": {},
   "outputs": [
    {
     "name": "stderr",
     "output_type": "stream",
     "text": [
      "/var/folders/1_/p59mzyv14zvb16j4tkwx37m00000gp/T/ipykernel_53540/3283601024.py:2: SettingWithCopyWarning: \n",
      "A value is trying to be set on a copy of a slice from a DataFrame.\n",
      "Try using .loc[row_indexer,col_indexer] = value instead\n",
      "\n",
      "See the caveats in the documentation: https://pandas.pydata.org/pandas-docs/stable/user_guide/indexing.html#returning-a-view-versus-a-copy\n",
      "  df_sample['date'] = pd.to_datetime(df_sample['date'], errors='coerce')\n",
      "/var/folders/1_/p59mzyv14zvb16j4tkwx37m00000gp/T/ipykernel_53540/3283601024.py:3: SettingWithCopyWarning: \n",
      "A value is trying to be set on a copy of a slice from a DataFrame.\n",
      "Try using .loc[row_indexer,col_indexer] = value instead\n",
      "\n",
      "See the caveats in the documentation: https://pandas.pydata.org/pandas-docs/stable/user_guide/indexing.html#returning-a-view-versus-a-copy\n",
      "  df_sample['decade'] = (df_sample['date'].dt.year// 10) *10\n",
      "/var/folders/1_/p59mzyv14zvb16j4tkwx37m00000gp/T/ipykernel_53540/3283601024.py:4: SettingWithCopyWarning: \n",
      "A value is trying to be set on a copy of a slice from a DataFrame.\n",
      "Try using .loc[row_indexer,col_indexer] = value instead\n",
      "\n",
      "See the caveats in the documentation: https://pandas.pydata.org/pandas-docs/stable/user_guide/indexing.html#returning-a-view-versus-a-copy\n",
      "  df_sample['energy_resource']= 'renewable energy'\n",
      "/var/folders/1_/p59mzyv14zvb16j4tkwx37m00000gp/T/ipykernel_53540/3283601024.py:5: SettingWithCopyWarning: \n",
      "A value is trying to be set on a copy of a slice from a DataFrame\n",
      "\n",
      "See the caveats in the documentation: https://pandas.pydata.org/pandas-docs/stable/user_guide/indexing.html#returning-a-view-versus-a-copy\n",
      "  df_sample.rename(columns={'body': 'text'}, inplace=True)\n"
     ]
    }
   ],
   "source": [
    "df_sample = combined[combined['word_count']<340]  # random_state for reproducibility\n",
    "df_sample['date'] = pd.to_datetime(df_sample['date'], errors='coerce')\n",
    "df_sample['decade'] = (df_sample['date'].dt.year// 10) *10\n",
    "df_sample['energy_resource']= 'renewable energy'\n",
    "df_sample.rename(columns={'body': 'text'}, inplace=True)"
   ]
  },
  {
   "cell_type": "code",
   "execution_count": 69,
   "id": "8606e034-b42c-4a0f-a969-96bd76fea86f",
   "metadata": {},
   "outputs": [],
   "source": [
    "df_sample.to_csv(input_dir / \"sample_340words.csv\", index=False, encoding=\"utf-8\")"
   ]
  },
  {
   "cell_type": "code",
   "execution_count": 70,
   "id": "e375eeff-c0d1-4875-bc3b-681c47ab712a",
   "metadata": {},
   "outputs": [
    {
     "data": {
      "text/plain": [
       "(7146, 10)"
      ]
     },
     "execution_count": 70,
     "metadata": {},
     "output_type": "execute_result"
    }
   ],
   "source": [
    "df_sample.shape"
   ]
  },
  {
   "cell_type": "code",
   "execution_count": 71,
   "id": "28a5effa-b182-4b08-963c-b642b7c0d1d7",
   "metadata": {},
   "outputs": [
    {
     "data": {
      "text/plain": [
       "91.42975090959978"
      ]
     },
     "execution_count": 71,
     "metadata": {},
     "output_type": "execute_result"
    }
   ],
   "source": [
    "df_sample['word_count'].mean()"
   ]
  },
  {
   "cell_type": "code",
   "execution_count": 74,
   "id": "d5b23553-8092-43d3-aea1-f5c7f70e4483",
   "metadata": {},
   "outputs": [],
   "source": [
    "df_sample.head().to_csv(input_dir / \"sample_head.csv\", index=False, encoding=\"utf-8\")"
   ]
  },
  {
   "cell_type": "markdown",
   "id": "7e55938f-c797-43fb-a01b-ee0ffd37ab9c",
   "metadata": {},
   "source": [
    "## make train-test dataset"
   ]
  },
  {
   "cell_type": "code",
   "execution_count": null,
   "id": "48e535e9-b66b-4b2c-8380-52d35aa55fc9",
   "metadata": {},
   "outputs": [],
   "source": [
    "n_fp = \"../../output_nuclear/all/sentiments_sonnet.csv\"\n",
    "df_n = pd.read_csv(n_fp)\n",
    "df_n['label'] = df_n['label_ai']\n",
    "df_n['label']= df_n['label'].replace(-1,3)\n",
    "df_n = df_n[df_n['label'].notnull()]"
   ]
  },
  {
   "cell_type": "code",
   "execution_count": null,
   "id": "4203e43e-7b3a-4993-889b-65483739220b",
   "metadata": {},
   "outputs": [],
   "source": [
    "from sklearn.model_selection import train_test_split\n",
    "\n",
    "# Assume df is your DataFrame\n",
    "train_df, test_df = train_test_split(df_n, test_size=0.2, random_state=42)\n",
    "train_df.to_csv(\"../../data/nuclear/train.csv\", index = False)\n",
    "test_df.to_csv(\"../../data/nuclear/test.csv\", index = False)"
   ]
  },
  {
   "cell_type": "code",
   "execution_count": null,
   "id": "035f842a-435a-4e66-8636-23dde7638280",
   "metadata": {},
   "outputs": [],
   "source": [
    "train_df['label']= train_df['label'].replace(2,1)\n",
    "train_df.to_csv(\"../../data/nuclear/train_binary.csv\", index = False)\n",
    "test_df['label']= test_df['label'].replace(2,1)\n",
    "test_df.to_csv(\"../../data/nuclear/test_binary.csv\", index = False)"
   ]
  },
  {
   "cell_type": "code",
   "execution_count": null,
   "id": "97b63875-11ca-4259-9cfd-33fec2d81951",
   "metadata": {},
   "outputs": [],
   "source": [
    "r_fp = \"../../output_renewable/all/sentiments_sonnet.csv\"\n",
    "df_r = pd.read_csv(r_fp)\n",
    "df_r['label'] = df_r['label_ai']\n",
    "df_n['label']= df_n['label'].replace(-1,3)\n",
    "df_n = df_n[df_n['label'].notnull()]"
   ]
  },
  {
   "cell_type": "code",
   "execution_count": null,
   "id": "b9f2ea84-74cc-45a2-beb6-8bc513a172bc",
   "metadata": {},
   "outputs": [],
   "source": [
    "train_df, test_df = train_test_split(df_r, test_size=0.2, random_state=42)\n",
    "train_df.to_csv(\"../../data/renewable/train.csv\", index = False)\n",
    "test_df.to_csv(\"../../data/renewable/test.csv\", index = False)"
   ]
  },
  {
   "cell_type": "code",
   "execution_count": null,
   "id": "420d336c-7dec-41f1-8f26-064b65f8c0f5",
   "metadata": {},
   "outputs": [],
   "source": [
    "train_df['label']= train_df['label'].replace(2,1)\n",
    "train_df.to_csv(\"../../data/renewable/train_binary.csv\", index = False)\n",
    "test_df['label']= test_df['label'].replace(2,1)\n",
    "test_df.to_csv(\"../../data/renewable/test_binary.csv\", index = False)"
   ]
  }
 ],
 "metadata": {
  "kernelspec": {
   "display_name": "base",
   "language": "python",
   "name": "base"
  },
  "language_info": {
   "codemirror_mode": {
    "name": "ipython",
    "version": 3
   },
   "file_extension": ".py",
   "mimetype": "text/x-python",
   "name": "python",
   "nbconvert_exporter": "python",
   "pygments_lexer": "ipython3",
   "version": "3.11.8"
  }
 },
 "nbformat": 4,
 "nbformat_minor": 5
}
