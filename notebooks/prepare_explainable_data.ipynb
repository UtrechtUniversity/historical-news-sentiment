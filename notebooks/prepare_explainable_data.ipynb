{
 "cells": [
  {
   "cell_type": "code",
   "execution_count": 1,
   "id": "7765b365-d238-4b31-90f7-a3b3c09f5f4e",
   "metadata": {},
   "outputs": [],
   "source": [
    "import pandas as pd\n",
    "import matplotlib.pyplot as plt\n",
    "import os\n",
    "from glob import glob"
   ]
  },
  {
   "cell_type": "markdown",
   "id": "796ba278-94ba-4b17-8884-0430fdae47a2",
   "metadata": {},
   "source": [
    "# Explainability\n",
    "\n",
    "## Retrieve relevant data points for a given date range and energy type\n",
    "### Fossil Fuel"
   ]
  },
  {
   "cell_type": "code",
   "execution_count": 10,
   "id": "cc3ab505-210d-4833-a1d4-47846d3e6b98",
   "metadata": {},
   "outputs": [],
   "source": [
    "def get_data_points(df: pd.DataFrame, energy_type: str, year_start: int, year_end: int, pred:int) -> pd.DataFrame:\n",
    "    \"\"\"\n",
    "    Returns rows from the DataFrame that match the given energy_type and year.\n",
    "\n",
    "    Args:\n",
    "        df (pd.DataFrame): The input DataFrame.\n",
    "        energy_type (str): The energy type to filter by.\n",
    "        year (int): The year to filter by.\n",
    "\n",
    "    Returns:\n",
    "        pd.DataFrame: Filtered DataFrame with matching rows.\n",
    "    \"\"\"\n",
    "    filtered_df = df[(df['energy_type'] == energy_type) & (df['year'] >= year_start) & (df['year'] <= year_end)& (df['prediction'] == pred)]\n",
    "    return filtered_df\n"
   ]
  },
  {
   "cell_type": "code",
   "execution_count": 2,
   "id": "25563de9-d56c-481b-9f4b-bf12e2f3e338",
   "metadata": {},
   "outputs": [],
   "source": [
    "data_folder_path = '../../data/fossil_fuel/all_data/9/'\n",
    "predict_folder_path = '../../output/fossil_fuel/predict_all/2class/'"
   ]
  },
  {
   "cell_type": "code",
   "execution_count": 13,
   "id": "0fb9495c-6dc0-4a5a-833b-7d8f00e29925",
   "metadata": {},
   "outputs": [],
   "source": [
    "data_files = ['1960s_coal_labeled_full_0.9.csv', '1960s_gas_labeled_full_0.9.csv', '1960s_oil_labeled_full_0.9.csv',\n",
    "              '1970s_coal_labeled_full_0.9.csv', '1970s_gas_labeled_full_0.9.csv', '1970s_oil_labeled_full_0.9.csv',\n",
    "              '1980s_coal_labeled_full_0.9.csv', '1980s_gas_labeled_full_0.9.csv', '1980s_oil_labeled_full_0.9.csv',\n",
    "              '1990s_coal_labeled_full_0.9.csv', '1990s_gas_labeled_full_0.9.csv', '1990s_oil_labeled_full_0.9.csv']\n",
    "\n",
    "predict_files = ['unlabeled_predictions_1960_coal_09.csv','unlabeled_predictions_1960_gas_09.csv','unlabeled_predictions_1960_oil_09.csv',\n",
    "                'unlabeled_predictions_1970_coal_09.csv','unlabeled_predictions_1970_gas_09.csv','unlabeled_predictions_1970_oil_09.csv',\n",
    "                'unlabeled_predictions_1980_coal_09.csv','unlabeled_predictions_1980_gas_09.csv','unlabeled_predictions_1980_oil_09.csv',\n",
    "                'unlabeled_predictions_1990_coal_09.csv','unlabeled_predictions_1990_gas_09.csv','unlabeled_predictions_1990_oil_09.csv']\n",
    "\n",
    "all_dfs = []\n",
    "\n",
    "for data_fp, predict_fp in zip(data_files, predict_files):\n",
    "    df_data = pd.read_csv(data_folder_path + data_fp)\n",
    "    df_predict = pd.read_csv(predict_folder_path + predict_fp)\n",
    "\n",
    "    filename = os.path.basename(predict_fp).replace('.csv', '')\n",
    "    parts = filename.rsplit('_', 2)\n",
    "    if len(parts) < 3:\n",
    "        continue\n",
    "    energy_type = parts[1]\n",
    "    df = pd.concat([\n",
    "        df_data[['date', 'p', 'newspaper_publisher']],\n",
    "        df_predict[['prediction', 'confidence']]\n",
    "    ], axis=1)\n",
    "\n",
    "    df = df.rename(columns={'p': 'text', 'newspaper_publisher': 'publisher_title'})\n",
    "\n",
    "    df['date'] = pd.to_datetime(df['date'], errors='coerce')\n",
    "    df = df.dropna(subset=['date'])\n",
    "    df['year'] = df['date'].dt.year\n",
    "    df['energy_type'] = energy_type\n",
    "    \n",
    "    all_dfs.append(df)\n",
    "\n",
    "df_fossil_fuel = pd.concat(all_dfs, ignore_index=True)\n",
    "#df_fossil_fuel['prediction'] = df_fossil_fuel['prediction'].replace(0, -1)\n"
   ]
  },
  {
   "cell_type": "code",
   "execution_count": 14,
   "id": "bbaa90eb-c93e-40e7-b789-2c8e4f82f7d4",
   "metadata": {},
   "outputs": [
    {
     "data": {
      "text/html": [
       "<div>\n",
       "<style scoped>\n",
       "    .dataframe tbody tr th:only-of-type {\n",
       "        vertical-align: middle;\n",
       "    }\n",
       "\n",
       "    .dataframe tbody tr th {\n",
       "        vertical-align: top;\n",
       "    }\n",
       "\n",
       "    .dataframe thead th {\n",
       "        text-align: right;\n",
       "    }\n",
       "</style>\n",
       "<table border=\"1\" class=\"dataframe\">\n",
       "  <thead>\n",
       "    <tr style=\"text-align: right;\">\n",
       "      <th></th>\n",
       "      <th>date</th>\n",
       "      <th>text</th>\n",
       "      <th>publisher_title</th>\n",
       "      <th>prediction</th>\n",
       "      <th>confidence</th>\n",
       "      <th>year</th>\n",
       "      <th>energy_type</th>\n",
       "    </tr>\n",
       "  </thead>\n",
       "  <tbody>\n",
       "    <tr>\n",
       "      <th>0</th>\n",
       "      <td>1963-02-23</td>\n",
       "      <td>Een van da felste uitdagingen uo het verenigd ...</td>\n",
       "      <td>N.V. Drukkerĳ De Tĳd</td>\n",
       "      <td>0</td>\n",
       "      <td>0.705488</td>\n",
       "      <td>1963</td>\n",
       "      <td>coal</td>\n",
       "    </tr>\n",
       "    <tr>\n",
       "      <th>1</th>\n",
       "      <td>1963-02-23</td>\n",
       "      <td>V oor oio mtfnea sou eea gecoördineerd beleid ...</td>\n",
       "      <td>N.V. Drukkerĳ De Tĳd</td>\n",
       "      <td>0</td>\n",
       "      <td>0.758977</td>\n",
       "      <td>1963</td>\n",
       "      <td>coal</td>\n",
       "    </tr>\n",
       "    <tr>\n",
       "      <th>2</th>\n",
       "      <td>1963-02-23</td>\n",
       "      <td>Noodlijdend zijn onze mijnen nog niet . Het gr...</td>\n",
       "      <td>N.V. Drukkerĳ De Tĳd</td>\n",
       "      <td>0</td>\n",
       "      <td>0.750726</td>\n",
       "      <td>1963</td>\n",
       "      <td>coal</td>\n",
       "    </tr>\n",
       "    <tr>\n",
       "      <th>3</th>\n",
       "      <td>1963-02-23</td>\n",
       "      <td>D 1 , grot - aardgasvondstea in om , Und schep...</td>\n",
       "      <td>N.V. Drukkerĳ De Tĳd</td>\n",
       "      <td>1</td>\n",
       "      <td>0.768789</td>\n",
       "      <td>1963</td>\n",
       "      <td>coal</td>\n",
       "    </tr>\n",
       "    <tr>\n",
       "      <th>4</th>\n",
       "      <td>1963-09-16</td>\n",
       "      <td>DEN HAAG , 16 sept. Als er geen abnormale ding...</td>\n",
       "      <td>N.V. Drukkerĳ De Tĳd</td>\n",
       "      <td>0</td>\n",
       "      <td>0.705253</td>\n",
       "      <td>1963</td>\n",
       "      <td>coal</td>\n",
       "    </tr>\n",
       "    <tr>\n",
       "      <th>...</th>\n",
       "      <td>...</td>\n",
       "      <td>...</td>\n",
       "      <td>...</td>\n",
       "      <td>...</td>\n",
       "      <td>...</td>\n",
       "      <td>...</td>\n",
       "      <td>...</td>\n",
       "    </tr>\n",
       "    <tr>\n",
       "      <th>796104</th>\n",
       "      <td>1992-08-29</td>\n",
       "      <td>Veertig jaar lief en leed . Publiciteit rond h...</td>\n",
       "      <td>Nieuwenhuis</td>\n",
       "      <td>0</td>\n",
       "      <td>0.676541</td>\n",
       "      <td>1992</td>\n",
       "      <td>oil</td>\n",
       "    </tr>\n",
       "    <tr>\n",
       "      <th>796105</th>\n",
       "      <td>1991-01-15</td>\n",
       "      <td>Inmiddels is Jacobs al twintig jaar werkzaam i...</td>\n",
       "      <td>Amigoe</td>\n",
       "      <td>0</td>\n",
       "      <td>0.879638</td>\n",
       "      <td>1991</td>\n",
       "      <td>oil</td>\n",
       "    </tr>\n",
       "    <tr>\n",
       "      <th>796106</th>\n",
       "      <td>1991-01-15</td>\n",
       "      <td>aldus Juan Jacobs , voorzitter van de AFBW . ,...</td>\n",
       "      <td>Amigoe</td>\n",
       "      <td>0</td>\n",
       "      <td>0.556419</td>\n",
       "      <td>1991</td>\n",
       "      <td>oil</td>\n",
       "    </tr>\n",
       "    <tr>\n",
       "      <th>796107</th>\n",
       "      <td>1991-01-15</td>\n",
       "      <td>KRALENDIJK De kritiek , die afgelopen week doo...</td>\n",
       "      <td>Amigoe</td>\n",
       "      <td>0</td>\n",
       "      <td>0.731135</td>\n",
       "      <td>1991</td>\n",
       "      <td>oil</td>\n",
       "    </tr>\n",
       "    <tr>\n",
       "      <th>796108</th>\n",
       "      <td>1992-08-11</td>\n",
       "      <td>KUWAYT en Rusland onderhandelen over samenwerk...</td>\n",
       "      <td>Amigoe</td>\n",
       "      <td>1</td>\n",
       "      <td>0.793026</td>\n",
       "      <td>1992</td>\n",
       "      <td>oil</td>\n",
       "    </tr>\n",
       "  </tbody>\n",
       "</table>\n",
       "<p>796109 rows × 7 columns</p>\n",
       "</div>"
      ],
      "text/plain": [
       "             date                                               text  \\\n",
       "0      1963-02-23  Een van da felste uitdagingen uo het verenigd ...   \n",
       "1      1963-02-23  V oor oio mtfnea sou eea gecoördineerd beleid ...   \n",
       "2      1963-02-23  Noodlijdend zijn onze mijnen nog niet . Het gr...   \n",
       "3      1963-02-23  D 1 , grot - aardgasvondstea in om , Und schep...   \n",
       "4      1963-09-16  DEN HAAG , 16 sept. Als er geen abnormale ding...   \n",
       "...           ...                                                ...   \n",
       "796104 1992-08-29  Veertig jaar lief en leed . Publiciteit rond h...   \n",
       "796105 1991-01-15  Inmiddels is Jacobs al twintig jaar werkzaam i...   \n",
       "796106 1991-01-15  aldus Juan Jacobs , voorzitter van de AFBW . ,...   \n",
       "796107 1991-01-15  KRALENDIJK De kritiek , die afgelopen week doo...   \n",
       "796108 1992-08-11  KUWAYT en Rusland onderhandelen over samenwerk...   \n",
       "\n",
       "             publisher_title  prediction  confidence  year energy_type  \n",
       "0       N.V. Drukkerĳ De Tĳd           0    0.705488  1963        coal  \n",
       "1       N.V. Drukkerĳ De Tĳd           0    0.758977  1963        coal  \n",
       "2       N.V. Drukkerĳ De Tĳd           0    0.750726  1963        coal  \n",
       "3       N.V. Drukkerĳ De Tĳd           1    0.768789  1963        coal  \n",
       "4       N.V. Drukkerĳ De Tĳd           0    0.705253  1963        coal  \n",
       "...                      ...         ...         ...   ...         ...  \n",
       "796104           Nieuwenhuis           0    0.676541  1992         oil  \n",
       "796105                Amigoe           0    0.879638  1991         oil  \n",
       "796106                Amigoe           0    0.556419  1991         oil  \n",
       "796107                Amigoe           0    0.731135  1991         oil  \n",
       "796108                Amigoe           1    0.793026  1992         oil  \n",
       "\n",
       "[796109 rows x 7 columns]"
      ]
     },
     "execution_count": 14,
     "metadata": {},
     "output_type": "execute_result"
    }
   ],
   "source": [
    "df_fossil_fuel"
   ]
  },
  {
   "cell_type": "markdown",
   "id": "945b66c3-ddb7-4f0c-8a13-aa9bfebb00a8",
   "metadata": {},
   "source": [
    "### Oil"
   ]
  },
  {
   "cell_type": "code",
   "execution_count": 17,
   "id": "dec41752-be3a-4abb-8cd1-083ab0534bfc",
   "metadata": {},
   "outputs": [],
   "source": [
    "## oil 60-66 \n",
    "file_path = '../../data/explain/oil_60_66_0.csv'\n",
    "results =get_data_points(df_fossil_fuel,'oil', 1960,1966,0)\n",
    "results.to_csv(file_path, index=False)\n",
    "\n",
    "file_path = '../../data/explain/oil_60_66_1.csv'\n",
    "results =get_data_points(df_fossil_fuel,'oil', 1960,1966,1)\n",
    "results.to_csv(file_path, index=False)"
   ]
  },
  {
   "cell_type": "code",
   "execution_count": 18,
   "id": "f55de823-e601-46e6-9ac2-770078533200",
   "metadata": {},
   "outputs": [],
   "source": [
    "## oil 72-75 \n",
    "file_path = '../../data/explain/oil_72_75_0.csv'\n",
    "results =get_data_points(df_fossil_fuel,'oil', 1972,1975,0)\n",
    "results.to_csv(file_path, index=False)\n",
    "\n",
    "file_path = '../../data/explain/oil_72_75_1.csv'\n",
    "results =get_data_points(df_fossil_fuel,'oil', 1972,1975,1)\n",
    "results.to_csv(file_path, index=False)"
   ]
  },
  {
   "cell_type": "code",
   "execution_count": 19,
   "id": "63095456-9d93-40ce-b0bf-3c0191cd9d0c",
   "metadata": {},
   "outputs": [],
   "source": [
    "## oil 85-90 \n",
    "file_path = '../../data/explain/oil_85_90_0.csv'\n",
    "results =get_data_points(df_fossil_fuel,'oil', 1985,1990,0)\n",
    "results.to_csv(file_path, index=False)\n",
    "\n",
    "file_path = '../../data/explain/oil_85_90_1.csv'\n",
    "results =get_data_points(df_fossil_fuel,'oil', 1985,1990,1)\n",
    "results.to_csv(file_path, index=False)"
   ]
  },
  {
   "cell_type": "markdown",
   "id": "b451e718-7824-4870-adb1-8d73a1bc1b17",
   "metadata": {},
   "source": [
    "### Gas"
   ]
  },
  {
   "cell_type": "code",
   "execution_count": 20,
   "id": "4c7593b0-8b98-4e00-a3d9-4fc8edef874f",
   "metadata": {},
   "outputs": [],
   "source": [
    "## gas 60-66 \n",
    "file_path = '../../data/explain/gas_60_66_0.csv'\n",
    "results =get_data_points(df_fossil_fuel,'gas', 1960,1966,0)\n",
    "results.to_csv(file_path, index=False)\n",
    "\n",
    "file_path = '../../data/explain/gas_60_66_1.csv'\n",
    "results =get_data_points(df_fossil_fuel,'gas', 1960,1966,1)\n",
    "results.to_csv(file_path, index=False)"
   ]
  },
  {
   "cell_type": "code",
   "execution_count": 21,
   "id": "e239aa34-45bf-482b-861d-f85db991ecd1",
   "metadata": {},
   "outputs": [],
   "source": [
    "## gas 72-75 \n",
    "file_path = '../../data/explain/gas_72_75_0.csv'\n",
    "results =get_data_points(df_fossil_fuel,'gas', 1972,1975,0)\n",
    "results.to_csv(file_path, index=False)\n",
    "\n",
    "file_path = '../../data/explain/gas_72_75_1.csv'\n",
    "results =get_data_points(df_fossil_fuel,'gas', 1972,1975,1)\n",
    "results.to_csv(file_path, index=False)"
   ]
  },
  {
   "cell_type": "code",
   "execution_count": 22,
   "id": "3a45f0c5-9558-43c2-bdea-f03d19b75f44",
   "metadata": {},
   "outputs": [],
   "source": [
    "## gas 85_90 \n",
    "file_path = '../../data/explain/gas_85_90_0.csv'\n",
    "results =get_data_points(df_fossil_fuel,'gas', 1985,1990,0)\n",
    "results.to_csv(file_path, index=False)\n",
    "\n",
    "file_path = '../../data/explain/gas_85_90_1.csv'\n",
    "results =get_data_points(df_fossil_fuel,'gas', 1985,1990,1)\n",
    "results.to_csv(file_path, index=False)"
   ]
  },
  {
   "cell_type": "markdown",
   "id": "1770eae5-c77a-429f-b63b-ce3862f75da6",
   "metadata": {},
   "source": [
    "### Coal"
   ]
  },
  {
   "cell_type": "code",
   "execution_count": 23,
   "id": "3a32d4ef-e200-41f1-9a2a-1af14c036b63",
   "metadata": {},
   "outputs": [],
   "source": [
    "## coal 70-75 \n",
    "file_path = '../../data/explain/coal_70_75_0.csv'\n",
    "results =get_data_points(df_fossil_fuel,'coal', 1970,1975,0)\n",
    "results.to_csv(file_path, index=False)\n",
    "\n",
    "file_path = '../../data/explain/coal_70_75_1.csv'\n",
    "results =get_data_points(df_fossil_fuel,'coal', 1970,1975,1)\n",
    "results.to_csv(file_path, index=False)"
   ]
  },
  {
   "cell_type": "code",
   "execution_count": 24,
   "id": "730edd03-9df1-4a4c-9641-04269619b140",
   "metadata": {},
   "outputs": [],
   "source": [
    "## coal 77-83 \n",
    "file_path = '../../data/explain/coal_77_83_0.csv'\n",
    "results =get_data_points(df_fossil_fuel,'coal', 1977,1983,0)\n",
    "results.to_csv(file_path, index=False)\n",
    "\n",
    "file_path = '../../data/explain/coal_77_83_1.csv'\n",
    "results =get_data_points(df_fossil_fuel,'coal', 1977,1983,1)\n",
    "results.to_csv(file_path, index=False)"
   ]
  },
  {
   "cell_type": "markdown",
   "id": "78501e37-818e-4b8d-a069-e12377f59456",
   "metadata": {},
   "source": [
    "### Nuclear energy"
   ]
  },
  {
   "cell_type": "code",
   "execution_count": 25,
   "id": "22724089-d6a1-46e6-b7c5-14b00d35f2d5",
   "metadata": {},
   "outputs": [],
   "source": [
    "fp_data = '../../data/nuclear/all_data/combined_files.csv'\n",
    "fp_predict = '../../output/nuclear/predict_all/unlabeled_predictions_checkpoint_epochs_10_batch_size_32_lr_8.177834244164004e-05_freeze_false_weight_decay_0.01_patience_3_hidden_dropout_0.0_attention_dropout_0.3_class2.csv'\n",
    "\n",
    "df_all = pd.read_csv(fp_data)\n",
    "df_predict = pd.read_csv(fp_predict)\n",
    "merged_df = pd.concat([df_all, df_predict], axis=1)\n",
    "columns=['date','body','publisher_title','prediction', 'confidence' ] ## title should be replaced with publisher_title\n",
    "df_nuclear = merged_df[columns]\n",
    "df_nuclear = df_nuclear.rename(columns={'body': 'text'}) # , 'title': 'publisher_title'\n",
    "df_nuclear = df_nuclear[df_nuclear['prediction']!= 2]\n",
    "#df_nuclear['prediction'] = df_nuclear['prediction'].replace(0, -1)\n",
    "df_nuclear['date'] = pd.to_datetime(df_nuclear['date'], errors='coerce')\n",
    "df_nuclear = df_nuclear.dropna(subset=['date'])\n",
    "df_nuclear['year'] = df_nuclear['date'].dt.year\n",
    "df_nuclear['energy_type']='nuclear'"
   ]
  },
  {
   "cell_type": "code",
   "execution_count": 33,
   "id": "d893ca46-3682-4115-9731-749b68cc8679",
   "metadata": {},
   "outputs": [],
   "source": [
    "## nuclear 65-71 \n",
    "file_path = '../../data/explain/nuclear_65_71_0.csv'\n",
    "results =get_data_points(df_nuclear,'nuclear', 1965,1971,0)\n",
    "results.to_csv(file_path, index=False)\n",
    "\n",
    "file_path = '../../data/explain/nuclear_65_71_1.csv'\n",
    "results =get_data_points(df_nuclear,'nuclear', 1965,1971,1)\n",
    "results.to_csv(file_path, index=False)"
   ]
  },
  {
   "cell_type": "code",
   "execution_count": 34,
   "id": "5ec94940-87d5-415c-a541-7ddff0af9311",
   "metadata": {},
   "outputs": [],
   "source": [
    "## nuclear 72-75 \n",
    "file_path = '../../data/explain/nuclear_72_75_0.csv'\n",
    "results =get_data_points(df_nuclear,'nuclear', 1972,1975,0)\n",
    "results.to_csv(file_path, index=False)\n",
    "\n",
    "file_path = '../../data/explain/nuclear_72_75_1.csv'\n",
    "results =get_data_points(df_nuclear,'nuclear', 1972,1975,1)\n",
    "results.to_csv(file_path, index=False)"
   ]
  },
  {
   "cell_type": "code",
   "execution_count": 35,
   "id": "cb76aa6c-a253-47a4-9e37-46262964cbf9",
   "metadata": {},
   "outputs": [],
   "source": [
    "## nuclear 81-87 \n",
    "file_path = '../../data/explain/nuclear_81_87_0.csv'\n",
    "results =get_data_points(df_nuclear,'nuclear', 1981,1987,0)\n",
    "results.to_csv(file_path, index=False)\n",
    "\n",
    "file_path = '../../data/explain/nuclear_81_87_1.csv'\n",
    "results =get_data_points(df_nuclear,'nuclear', 1981,1987,1)\n",
    "results.to_csv(file_path, index=False)"
   ]
  },
  {
   "cell_type": "code",
   "execution_count": 36,
   "id": "563e3ad5-bcd6-4759-beba-76640f0bb8fc",
   "metadata": {},
   "outputs": [],
   "source": [
    "## nuclear 88-92 \n",
    "file_path = '../../data/explain/nuclear_88_92_0.csv'\n",
    "results =get_data_points(df_nuclear,'nuclear', 1988,1992,0)\n",
    "results.to_csv(file_path, index=False)\n",
    "\n",
    "file_path = '../../data/explain/nuclear_88_92_1.csv'\n",
    "results =get_data_points(df_nuclear,'nuclear', 1988,1992,1)\n",
    "results.to_csv(file_path, index=False)"
   ]
  },
  {
   "cell_type": "markdown",
   "id": "52643c88-9311-431d-b660-42e61c12ba32",
   "metadata": {},
   "source": [
    "### Renewable energy"
   ]
  },
  {
   "cell_type": "code",
   "execution_count": 37,
   "id": "55955db5-de47-4906-96cc-6f651821bcca",
   "metadata": {},
   "outputs": [],
   "source": [
    "fp_data = '../../data/renewable/all_data/combined_files.csv'\n",
    "fp_predict = '../../output/renewable/predict_all/unlabeled_predictions_checkpoint_epochs_10_batch_size_16_lr_2.2226468679191218e-05_freeze_true_weight_decay_0.001_patience_2_hidden_dropout_0.0_attention_dropout_0.4_robbert_class2.csv'\n",
    "df_all = pd.read_csv(fp_data)\n",
    "df_predict = pd.read_csv(fp_predict)\n",
    "merged_df = pd.concat([df_all, df_predict], axis=1)\n",
    "columns=['date','body','publisher_title','prediction', 'confidence' ] ## title should be replaced with publisher_title\n",
    "df_renewable = merged_df[columns]\n",
    "df_renewable = df_renewable.rename(columns={'body': 'text'}) # , 'title': 'publisher_title'\n",
    "df_renewable = df_renewable[df_renewable['prediction']!= 2]\n",
    "# df_renewable['prediction'] = df_renewable['prediction'].replace(0, -1)\n",
    "df_renewable['date'] = pd.to_datetime(df_renewable['date'], errors='coerce')\n",
    "df_renewable = df_renewable.dropna(subset=['date'])\n",
    "df_renewable['year'] = df_renewable['date'].dt.year\n",
    "df_renewable['energy_type']='renewable'"
   ]
  },
  {
   "cell_type": "code",
   "execution_count": 38,
   "id": "d34b70a5-c6d1-4e29-8bab-4bb849b7d40a",
   "metadata": {},
   "outputs": [],
   "source": [
    "## renewable 72-73 \n",
    "file_path = '../../data/explain/renewable_72_73_0.csv'\n",
    "results =get_data_points(df_renewable,'renewable', 1972,1973,0)\n",
    "results.to_csv(file_path, index=False)\n",
    "\n",
    "file_path = '../../data/explain/renewable_72_73_1.csv'\n",
    "results =get_data_points(df_renewable,'renewable', 1972,1973,1)\n",
    "results.to_csv(file_path, index=False)"
   ]
  },
  {
   "cell_type": "code",
   "execution_count": 39,
   "id": "d17c8639-2a94-4864-807c-1e7a0de8413d",
   "metadata": {},
   "outputs": [],
   "source": [
    "## renewable 79-84 \n",
    "file_path = '../../data/explain/renewable_79_84_0.csv'\n",
    "results =get_data_points(df_renewable,'renewable', 1979,1984,0)\n",
    "results.to_csv(file_path, index=False)\n",
    "\n",
    "file_path = '../../data/explain/renewable_79_84_1.csv'\n",
    "results =get_data_points(df_renewable,'renewable', 1979,1984,1)\n",
    "results.to_csv(file_path, index=False)"
   ]
  },
  {
   "cell_type": "code",
   "execution_count": 40,
   "id": "463f98a8-9ca7-4125-8a0b-03c03b121b78",
   "metadata": {},
   "outputs": [],
   "source": [
    "## renewable 88-92 \n",
    "file_path = '../../data/explain/renewable_88_92_0.csv'\n",
    "results =get_data_points(df_renewable,'renewable', 1988,1992,0)\n",
    "results.to_csv(file_path, index=False)\n",
    "\n",
    "file_path = '../../data/explain/renewable_88_92_1.csv'\n",
    "results =get_data_points(df_renewable,'renewable', 1988,1992,1)\n",
    "results.to_csv(file_path, index=False)"
   ]
  },
  {
   "cell_type": "code",
   "execution_count": null,
   "id": "0472355a-7e61-4166-93cc-0223030ef538",
   "metadata": {},
   "outputs": [],
   "source": []
  }
 ],
 "metadata": {
  "kernelspec": {
   "display_name": "base",
   "language": "python",
   "name": "base"
  },
  "language_info": {
   "codemirror_mode": {
    "name": "ipython",
    "version": 3
   },
   "file_extension": ".py",
   "mimetype": "text/x-python",
   "name": "python",
   "nbconvert_exporter": "python",
   "pygments_lexer": "ipython3",
   "version": "3.11.8"
  }
 },
 "nbformat": 4,
 "nbformat_minor": 5
}
