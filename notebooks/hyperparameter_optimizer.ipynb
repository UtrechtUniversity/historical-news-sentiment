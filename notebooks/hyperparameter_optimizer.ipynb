{
 "cells": [
  {
   "cell_type": "code",
   "execution_count": 1,
   "id": "2ae78db7",
   "metadata": {},
   "outputs": [
    {
     "name": "stderr",
     "output_type": "stream",
     "text": [
      "2025-04-14 19:17:39,903 - INFO - Logging initialized\n",
      "[nltk_data] Downloading package stopwords to\n",
      "[nltk_data]     /Users/nadin001/nltk_data...\n",
      "[nltk_data]   Package stopwords is already up-to-date!\n"
     ]
    }
   ],
   "source": [
    "from pathlib import Path\n",
    "from interest.dataprocessor.preprocessor import TextPreprocessor\n",
    "from interest.dataprocessor.dataloader import CSVDataLoader\n",
    "from interest.hyperparameter_optimizer import run_optimization_pipeline\n",
    "import pandas as pd"
   ]
  },
  {
   "cell_type": "code",
   "execution_count": 2,
   "id": "61ad1741",
   "metadata": {},
   "outputs": [],
   "source": [
    "train_fp = Path(\"../data/AI-labeled/train_dataset.csv\")\n",
    "train_dataset = pd.read_csv(train_fp)\n",
    "train_dataset['label'] = train_dataset['label'].replace(0, 1)\n",
    "train_dataset['label'] = train_dataset['label'].replace(-1, 0)\n",
    "train_data = train_dataset['processed_text']\n",
    "train_labels = train_dataset['label']"
   ]
  },
  {
   "cell_type": "code",
   "execution_count": 3,
   "id": "277d1341",
   "metadata": {},
   "outputs": [
    {
     "name": "stderr",
     "output_type": "stream",
     "text": [
      "2025-04-14 19:17:40,534 - INFO - Converting X_train to dense array for Gradient Boosting. Shape: (2709, 36647)\n",
      "2025-04-14 19:17:40,587 - INFO - Imbalance ratio for Gradient Boosting: 1.6742349457058243\n",
      "2025-04-14 19:17:40,588 - INFO - Starting hyperparameter optimization for Gradient Boosting...\n",
      "2025-04-14 19:20:27,992 - INFO - Training Score: 0.9125138427464009\n",
      "2025-04-14 19:20:27,995 - INFO - Cross-validation Score: 0.659484307558683\n",
      "2025-04-14 19:20:27,995 - WARNING - Gradient Boosting may be overfitting: Training Score: 0.9125138427464009, Validation Score: 0.659484307558683\n",
      "2025-04-14 19:20:27,995 - INFO - Gradient Boosting optimization complete.\n",
      "2025-04-14 19:20:27,996 - INFO - Best parameters: {'classifier__max_iter': 50, 'classifier__learning_rate': 0.1}\n",
      "2025-04-14 19:20:27,996 - INFO - Best cross-validation score: 0.659484307558683\n",
      "\n",
      "2025-04-14 19:20:27,997 - INFO - Imbalance ratio for Support Vector Machine: 1.6742349457058243\n",
      "2025-04-14 19:20:27,997 - INFO - Starting hyperparameter optimization for Support Vector Machine...\n",
      "2025-04-14 19:26:15,028 - INFO - Training Score: 0.9324473975636767\n",
      "2025-04-14 19:26:15,031 - INFO - Cross-validation Score: 0.783149343604633\n",
      "2025-04-14 19:26:15,033 - WARNING - Support Vector Machine may be overfitting: Training Score: 0.9324473975636767, Validation Score: 0.783149343604633\n",
      "2025-04-14 19:26:15,043 - INFO - Support Vector Machine optimization complete.\n",
      "2025-04-14 19:26:15,060 - INFO - Best parameters: {'classifier__gamma': 0.1, 'classifier__C': 10}\n",
      "2025-04-14 19:26:15,065 - INFO - Best cross-validation score: 0.783149343604633\n",
      "\n",
      "2025-04-14 19:26:15,074 - INFO - Imbalance ratio for Logistic Regression: 1.6742349457058243\n",
      "2025-04-14 19:26:15,078 - INFO - Starting hyperparameter optimization for Logistic Regression...\n",
      "2025-04-14 19:26:24,959 - INFO - Training Score: 0.8933185677371724\n",
      "2025-04-14 19:26:24,967 - INFO - Cross-validation Score: 0.6799490328918928\n",
      "2025-04-14 19:26:24,967 - WARNING - Logistic Regression may be overfitting: Training Score: 0.8933185677371724, Validation Score: 0.6799490328918928\n",
      "2025-04-14 19:26:24,967 - INFO - Logistic Regression optimization complete.\n",
      "2025-04-14 19:26:24,968 - INFO - Best parameters: {'classifier__penalty': 'l2', 'classifier__C': 1}\n",
      "2025-04-14 19:26:24,968 - INFO - Best cross-validation score: 0.6799490328918928\n",
      "\n",
      "2025-04-14 19:26:24,971 - INFO - Imbalance ratio for Random Forest: 1.6742349457058243\n",
      "2025-04-14 19:26:24,972 - INFO - Starting hyperparameter optimization for Random Forest...\n",
      "2025-04-14 19:26:33,662 - INFO - Training Score: 0.8918420081210778\n",
      "2025-04-14 19:26:33,663 - INFO - Cross-validation Score: 0.6509960783668894\n",
      "2025-04-14 19:26:33,664 - WARNING - Random Forest may be overfitting: Training Score: 0.8918420081210778, Validation Score: 0.6509960783668894\n",
      "2025-04-14 19:26:33,664 - INFO - Random Forest optimization complete.\n",
      "2025-04-14 19:26:33,664 - INFO - Best parameters: {'classifier__n_estimators': 50, 'classifier__min_samples_split': 10, 'classifier__max_depth': 20}\n",
      "2025-04-14 19:26:33,665 - INFO - Best cross-validation score: 0.6509960783668894\n",
      "\n",
      "2025-04-14 19:26:33,665 - INFO - Imbalance ratio for Naive Bayes: 1.6742349457058243\n",
      "2025-04-14 19:26:33,665 - INFO - Starting hyperparameter optimization for Naive Bayes...\n",
      "2025-04-14 19:26:37,332 - INFO - Training Score: 0.9069767441860465\n",
      "2025-04-14 19:26:37,333 - INFO - Cross-validation Score: 0.700625870426693\n",
      "2025-04-14 19:26:37,334 - WARNING - Naive Bayes may be overfitting: Training Score: 0.9069767441860465, Validation Score: 0.700625870426693\n",
      "2025-04-14 19:26:37,344 - INFO - Naive Bayes optimization complete.\n",
      "2025-04-14 19:26:37,353 - INFO - Best parameters: {'classifier__norm': True, 'classifier__alpha': 0.5}\n",
      "2025-04-14 19:26:37,356 - INFO - Best cross-validation score: 0.700625870426693\n",
      "\n",
      "2025-04-14 19:26:37,366 - INFO - Hyperparameter optimization results saved to hyperparameter_results_binary.json\n",
      "2025-04-14 19:26:37,380 - INFO - Gradient Boosting Results: {'best_params': {'classifier__max_iter': 50, 'classifier__learning_rate': 0.1}, 'best_score': 0.659484307558683}\n",
      "2025-04-14 19:26:37,382 - INFO - Support Vector Machine Results: {'best_params': {'classifier__gamma': 0.1, 'classifier__C': 10}, 'best_score': 0.783149343604633}\n",
      "2025-04-14 19:26:37,390 - INFO - Logistic Regression Results: {'best_params': {'classifier__penalty': 'l2', 'classifier__C': 1}, 'best_score': 0.6799490328918928}\n",
      "2025-04-14 19:26:37,397 - INFO - Random Forest Results: {'best_params': {'classifier__n_estimators': 50, 'classifier__min_samples_split': 10, 'classifier__max_depth': 20}, 'best_score': 0.6509960783668894}\n",
      "2025-04-14 19:26:37,398 - INFO - Naive Bayes Results: {'best_params': {'classifier__norm': True, 'classifier__alpha': 0.5}, 'best_score': 0.700625870426693}\n"
     ]
    }
   ],
   "source": [
    "run_optimization_pipeline(train_data=train_data, train_labels=train_labels, binary_labels=True)\n"
   ]
  },
  {
   "cell_type": "code",
   "execution_count": 4,
   "id": "c773bc87",
   "metadata": {},
   "outputs": [],
   "source": [
    "train_fp = Path(\"../data/AI-labeled/train_dataset.csv\")\n",
    "train_dataset = pd.read_csv(train_fp)\n",
    "train_data = train_dataset['processed_text']\n",
    "train_labels = train_dataset['label']"
   ]
  },
  {
   "cell_type": "code",
   "execution_count": 5,
   "id": "168a29ef",
   "metadata": {},
   "outputs": [
    {
     "name": "stderr",
     "output_type": "stream",
     "text": [
      "2025-04-14 19:26:37,744 - INFO - Converting X_train to dense array for Gradient Boosting. Shape: (2709, 36647)\n",
      "2025-04-14 19:26:37,811 - INFO - Imbalance ratio for Gradient Boosting: 1.2953964194373402\n",
      "2025-04-14 19:26:37,811 - INFO - Starting hyperparameter optimization for Gradient Boosting...\n",
      "2025-04-14 19:33:41,402 - INFO - Training Score: 0.773717238833518\n",
      "2025-04-14 19:33:41,404 - INFO - Cross-validation Score: 0.713927691708044\n",
      "2025-04-14 19:33:41,405 - INFO - Gradient Boosting optimization complete.\n",
      "2025-04-14 19:33:41,405 - INFO - Best parameters: {'classifier__max_iter': 50, 'classifier__learning_rate': 0.01}\n",
      "2025-04-14 19:33:41,405 - INFO - Best cross-validation score: 0.713927691708044\n",
      "\n",
      "2025-04-14 19:33:41,406 - INFO - Imbalance ratio for Support Vector Machine: 1.2953964194373402\n",
      "2025-04-14 19:33:41,407 - INFO - Starting hyperparameter optimization for Support Vector Machine...\n",
      "2025-04-14 19:40:15,069 - INFO - Training Score: 0.3739387227759321\n",
      "2025-04-14 19:40:15,072 - INFO - Cross-validation Score: 0.2035466509273418\n",
      "2025-04-14 19:40:15,073 - WARNING - Support Vector Machine may be underfitting: Training Score: 0.3739387227759321, Validation Score: 0.2035466509273418\n",
      "2025-04-14 19:40:15,073 - INFO - Support Vector Machine optimization complete.\n",
      "2025-04-14 19:40:15,075 - INFO - Best parameters: {'classifier__gamma': 0.1, 'classifier__C': 0.1}\n",
      "2025-04-14 19:40:15,077 - INFO - Best cross-validation score: 0.2035466509273418\n",
      "\n",
      "2025-04-14 19:40:15,080 - INFO - Imbalance ratio for Logistic Regression: 1.2953964194373402\n",
      "2025-04-14 19:40:15,081 - INFO - Starting hyperparameter optimization for Logistic Regression...\n",
      "2025-04-14 19:40:18,914 - INFO - Training Score: 0.3739387227759321\n",
      "2025-04-14 19:40:18,917 - INFO - Cross-validation Score: 0.7256680199556033\n",
      "2025-04-14 19:40:18,918 - INFO - Logistic Regression optimization complete.\n",
      "2025-04-14 19:40:18,919 - INFO - Best parameters: {'classifier__penalty': 'l2', 'classifier__C': 0.001}\n",
      "2025-04-14 19:40:18,921 - INFO - Best cross-validation score: 0.7256680199556033\n",
      "\n",
      "2025-04-14 19:40:18,922 - INFO - Imbalance ratio for Random Forest: 1.2953964194373402\n",
      "2025-04-14 19:40:18,924 - INFO - Starting hyperparameter optimization for Random Forest...\n",
      "2025-04-14 19:40:36,353 - INFO - Training Score: 0.9010705057216685\n",
      "2025-04-14 19:40:36,355 - INFO - Cross-validation Score: 0.7228514374073288\n",
      "2025-04-14 19:40:36,355 - WARNING - Random Forest may be overfitting: Training Score: 0.9010705057216685, Validation Score: 0.7228514374073288\n",
      "2025-04-14 19:40:36,355 - INFO - Random Forest optimization complete.\n",
      "2025-04-14 19:40:36,356 - INFO - Best parameters: {'classifier__n_estimators': 100, 'classifier__min_samples_split': 5, 'classifier__max_depth': None}\n",
      "2025-04-14 19:40:36,356 - INFO - Best cross-validation score: 0.7228514374073288\n",
      "\n",
      "2025-04-14 19:40:36,356 - INFO - Imbalance ratio for Naive Bayes: 1.2953964194373402\n",
      "2025-04-14 19:40:36,356 - INFO - Starting hyperparameter optimization for Naive Bayes...\n",
      "2025-04-14 19:40:37,368 - INFO - Training Score: 0.8737541528239202\n",
      "2025-04-14 19:40:37,369 - INFO - Cross-validation Score: 0.7573713388420495\n",
      "2025-04-14 19:40:37,370 - WARNING - Naive Bayes may be overfitting: Training Score: 0.8737541528239202, Validation Score: 0.7573713388420495\n",
      "2025-04-14 19:40:37,373 - INFO - Naive Bayes optimization complete.\n",
      "2025-04-14 19:40:37,375 - INFO - Best parameters: {'classifier__norm': False, 'classifier__alpha': 0.5}\n",
      "2025-04-14 19:40:37,377 - INFO - Best cross-validation score: 0.7573713388420495\n",
      "\n",
      "2025-04-14 19:40:37,381 - INFO - Hyperparameter optimization results saved to hyperparameter_results_multiclass.json\n",
      "2025-04-14 19:40:37,382 - INFO - Gradient Boosting Results: {'best_params': {'classifier__max_iter': 50, 'classifier__learning_rate': 0.01}, 'best_score': 0.713927691708044}\n",
      "2025-04-14 19:40:37,384 - INFO - Support Vector Machine Results: {'best_params': {'classifier__gamma': 0.1, 'classifier__C': 0.1}, 'best_score': 0.2035466509273418}\n",
      "2025-04-14 19:40:37,384 - INFO - Logistic Regression Results: {'best_params': {'classifier__penalty': 'l2', 'classifier__C': 0.001}, 'best_score': 0.7256680199556033}\n",
      "2025-04-14 19:40:37,385 - INFO - Random Forest Results: {'best_params': {'classifier__n_estimators': 100, 'classifier__min_samples_split': 5, 'classifier__max_depth': None}, 'best_score': 0.7228514374073288}\n",
      "2025-04-14 19:40:37,387 - INFO - Naive Bayes Results: {'best_params': {'classifier__norm': False, 'classifier__alpha': 0.5}, 'best_score': 0.7573713388420495}\n"
     ]
    }
   ],
   "source": [
    "run_optimization_pipeline(train_data=train_data, train_labels=train_labels, binary_labels=False)\n"
   ]
  },
  {
   "cell_type": "code",
   "execution_count": null,
   "id": "0de236cf",
   "metadata": {},
   "outputs": [],
   "source": []
  }
 ],
 "metadata": {
  "kernelspec": {
   "display_name": "Python 3 (ipykernel)",
   "language": "python",
   "name": "python3"
  },
  "language_info": {
   "codemirror_mode": {
    "name": "ipython",
    "version": 3
   },
   "file_extension": ".py",
   "mimetype": "text/x-python",
   "name": "python",
   "nbconvert_exporter": "python",
   "pygments_lexer": "ipython3",
   "version": "3.11.0"
  }
 },
 "nbformat": 4,
 "nbformat_minor": 5
}
