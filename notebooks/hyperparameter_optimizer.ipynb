{
 "cells": [
  {
   "cell_type": "code",
   "execution_count": 3,
   "id": "2ae78db7",
   "metadata": {},
   "outputs": [],
   "source": [
    "from pathlib import Path\n",
    "from interest.dataprocessor.preprocessor import TextPreprocessor\n",
    "from interest.dataprocessor.dataloader import CSVDataLoader\n",
    "from interest.hyperparameter_optimizer import run_optimization_pipeline\n",
    "import pandas as pd"
   ]
  },
  {
   "cell_type": "code",
   "execution_count": 4,
   "id": "61ad1741",
   "metadata": {},
   "outputs": [],
   "source": [
    "train_fp = Path(\"../data/AI-labeled/train_dataset.csv\")\n",
    "train_dataset = pd.read_csv(train_fp)\n",
    "train_dataset['label'] = train_dataset['label'].replace(0, 1)\n",
    "train_dataset['label'] = train_dataset['label'].replace(-1, 0)\n",
    "train_data = train_dataset['processed_text']\n",
    "train_labels = train_dataset['label']"
   ]
  },
  {
   "cell_type": "code",
   "execution_count": 5,
   "id": "277d1341",
   "metadata": {},
   "outputs": [
    {
     "name": "stderr",
     "output_type": "stream",
     "text": [
      "2025-02-25 12:53:57,439 - INFO - Starting hyperparameter optimization for Gradient Boosting...\n",
      "2025-02-25 12:56:09,863 - INFO - Gradient Boosting optimization complete.\n",
      "2025-02-25 12:56:09,865 - INFO - Best parameters: {'learning_rate': 0.5, 'n_estimators': 200}\n",
      "2025-02-25 12:56:09,866 - INFO - Best cross-validation score: 0.6971553974914299\n",
      "\n",
      "2025-02-25 12:56:09,866 - INFO - Starting hyperparameter optimization for Support Vector Machine...\n",
      "2025-02-25 12:56:37,939 - INFO - Support Vector Machine optimization complete.\n",
      "2025-02-25 12:56:37,940 - INFO - Best parameters: {'C': 1, 'gamma': 1}\n",
      "2025-02-25 12:56:37,940 - INFO - Best cross-validation score: 0.7183530409824475\n",
      "\n",
      "2025-02-25 12:56:37,940 - INFO - Starting hyperparameter optimization for Logistic Regression...\n",
      "2025-02-25 12:56:38,329 - INFO - Logistic Regression optimization complete.\n",
      "2025-02-25 12:56:38,330 - INFO - Best parameters: {'C': 10, 'penalty': 'l2'}\n",
      "2025-02-25 12:56:38,332 - INFO - Best cross-validation score: 0.7189577691288708\n",
      "\n",
      "2025-02-25 12:56:38,344 - INFO - Starting hyperparameter optimization for Random Forest...\n",
      "2025-02-25 12:57:30,140 - INFO - Random Forest optimization complete.\n",
      "2025-02-25 12:57:30,140 - INFO - Best parameters: {'max_depth': 10, 'n_estimators': 200}\n",
      "2025-02-25 12:57:30,140 - INFO - Best cross-validation score: 0.7089134956996017\n",
      "\n",
      "2025-02-25 12:57:30,141 - INFO - Starting hyperparameter optimization for Naive Bayes...\n",
      "2025-02-25 12:57:30,335 - INFO - Naive Bayes optimization complete.\n",
      "2025-02-25 12:57:30,336 - INFO - Best parameters: {'alpha': 0.1, 'norm': False}\n",
      "2025-02-25 12:57:30,336 - INFO - Best cross-validation score: 0.7244315372561522\n",
      "\n",
      "2025-02-25 12:57:30,338 - INFO - Hyperparameter optimization results saved to hyperparameter_results.json\n",
      "2025-02-25 12:57:30,338 - INFO - Gradient Boosting Results: {'best_params': {'learning_rate': 0.5, 'n_estimators': 200}, 'best_score': 0.6971553974914299}\n",
      "2025-02-25 12:57:30,338 - INFO - Support Vector Machine Results: {'best_params': {'C': 1, 'gamma': 1}, 'best_score': 0.7183530409824475}\n",
      "2025-02-25 12:57:30,339 - INFO - Logistic Regression Results: {'best_params': {'C': 10, 'penalty': 'l2'}, 'best_score': 0.7189577691288708}\n",
      "2025-02-25 12:57:30,339 - INFO - Random Forest Results: {'best_params': {'max_depth': 10, 'n_estimators': 200}, 'best_score': 0.7089134956996017}\n",
      "2025-02-25 12:57:30,339 - INFO - Naive Bayes Results: {'best_params': {'alpha': 0.1, 'norm': False}, 'best_score': 0.7244315372561522}\n"
     ]
    }
   ],
   "source": [
    "run_optimization_pipeline(train_data=train_data, train_labels=train_labels, binary_labels=True)\n"
   ]
  },
  {
   "cell_type": "code",
   "execution_count": null,
   "id": "c773bc87",
   "metadata": {},
   "outputs": [],
   "source": []
  }
 ],
 "metadata": {
  "kernelspec": {
   "display_name": "Python 3 (ipykernel)",
   "language": "python",
   "name": "python3"
  },
  "language_info": {
   "codemirror_mode": {
    "name": "ipython",
    "version": 3
   },
   "file_extension": ".py",
   "mimetype": "text/x-python",
   "name": "python",
   "nbconvert_exporter": "python",
   "pygments_lexer": "ipython3",
   "version": "3.11.0"
  }
 },
 "nbformat": 4,
 "nbformat_minor": 5
}
