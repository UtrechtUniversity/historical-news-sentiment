{
 "cells": [
  {
   "cell_type": "code",
   "execution_count": 1,
   "id": "2ae78db7",
   "metadata": {},
   "outputs": [
    {
     "name": "stderr",
     "output_type": "stream",
     "text": [
      "[nltk_data] Downloading package stopwords to\n",
      "[nltk_data]     /Users/nadin001/nltk_data...\n",
      "[nltk_data]   Package stopwords is already up-to-date!\n",
      "[nltk_data] Downloading package punkt to /Users/nadin001/nltk_data...\n",
      "[nltk_data]   Package punkt is already up-to-date!\n"
     ]
    }
   ],
   "source": [
    "from pathlib import Path\n",
    "from interest.llm.preprocessor import TextPreprocessor\n",
    "from interest.llm.dataloader import CSVDataLoader\n",
    "from interest.utils import prepare_data\n",
    "from interest.hyperparameter_optimizer import run_optimization_pipeline\n"
   ]
  },
  {
   "cell_type": "code",
   "execution_count": 2,
   "id": "277d1341",
   "metadata": {},
   "outputs": [
    {
     "name": "stderr",
     "output_type": "stream",
     "text": [
      "2024-12-13 14:23:09,535 - INFO - Starting hyperparameter optimization for Gradient Boosting...\n",
      "2024-12-13 14:24:46,059 - INFO - Gradient Boosting optimization complete.\n",
      "2024-12-13 14:24:46,060 - INFO - Best parameters: {'learning_rate': 0.5, 'n_estimators': 100}\n",
      "2024-12-13 14:24:46,060 - INFO - Best cross-validation score: 0.7043892110781399\n",
      "\n",
      "2024-12-13 14:24:46,060 - INFO - Starting hyperparameter optimization for Support Vector Machine...\n",
      "2024-12-13 14:25:04,464 - INFO - Support Vector Machine optimization complete.\n",
      "2024-12-13 14:25:04,464 - INFO - Best parameters: {'C': 1, 'gamma': 1}\n",
      "2024-12-13 14:25:04,464 - INFO - Best cross-validation score: 0.7434488289550009\n",
      "\n",
      "2024-12-13 14:25:04,464 - INFO - Starting hyperparameter optimization for Logistic Regression...\n",
      "2024-12-13 14:25:04,803 - INFO - Logistic Regression optimization complete.\n",
      "2024-12-13 14:25:04,805 - INFO - Best parameters: {'C': 10, 'penalty': 'l2'}\n",
      "2024-12-13 14:25:04,812 - INFO - Best cross-validation score: 0.7461219183483263\n",
      "\n",
      "2024-12-13 14:25:04,825 - INFO - Starting hyperparameter optimization for Random Forest...\n",
      "2024-12-13 14:25:43,035 - INFO - Random Forest optimization complete.\n",
      "2024-12-13 14:25:43,035 - INFO - Best parameters: {'max_depth': 10, 'n_estimators': 200}\n",
      "2024-12-13 14:25:43,035 - INFO - Best cross-validation score: 0.7312003545849064\n",
      "\n",
      "2024-12-13 14:25:43,036 - INFO - Starting hyperparameter optimization for Naive Bayes...\n",
      "2024-12-13 14:25:43,232 - INFO - Naive Bayes optimization complete.\n",
      "2024-12-13 14:25:43,233 - INFO - Best parameters: {'alpha': 0.1, 'norm': False}\n",
      "2024-12-13 14:25:43,233 - INFO - Best cross-validation score: 0.7378222683170627\n",
      "\n",
      "2024-12-13 14:25:43,234 - INFO - Hyperparameter optimization results saved to hyperparameter_results.json\n",
      "2024-12-13 14:25:43,234 - INFO - Gradient Boosting Results: {'best_params': {'learning_rate': 0.5, 'n_estimators': 100}, 'best_score': 0.7043892110781399}\n",
      "2024-12-13 14:25:43,235 - INFO - Support Vector Machine Results: {'best_params': {'C': 1, 'gamma': 1}, 'best_score': 0.7434488289550009}\n",
      "2024-12-13 14:25:43,235 - INFO - Logistic Regression Results: {'best_params': {'C': 10, 'penalty': 'l2'}, 'best_score': 0.7461219183483263}\n",
      "2024-12-13 14:25:43,235 - INFO - Random Forest Results: {'best_params': {'max_depth': 10, 'n_estimators': 200}, 'best_score': 0.7312003545849064}\n",
      "2024-12-13 14:25:43,235 - INFO - Naive Bayes Results: {'best_params': {'alpha': 0.1, 'norm': False}, 'best_score': 0.7378222683170627}\n"
     ]
    }
   ],
   "source": [
    "data_dir = Path(\"../data/merged\")\n",
    "run_optimization_pipeline(data_dir=data_dir, binary_labels=True)\n"
   ]
  },
  {
   "cell_type": "code",
   "execution_count": null,
   "id": "c773bc87",
   "metadata": {},
   "outputs": [],
   "source": []
  }
 ],
 "metadata": {
  "kernelspec": {
   "display_name": "Python 3 (ipykernel)",
   "language": "python",
   "name": "python3"
  },
  "language_info": {
   "codemirror_mode": {
    "name": "ipython",
    "version": 3
   },
   "file_extension": ".py",
   "mimetype": "text/x-python",
   "name": "python",
   "nbconvert_exporter": "python",
   "pygments_lexer": "ipython3",
   "version": "3.11.0"
  }
 },
 "nbformat": 4,
 "nbformat_minor": 5
}
