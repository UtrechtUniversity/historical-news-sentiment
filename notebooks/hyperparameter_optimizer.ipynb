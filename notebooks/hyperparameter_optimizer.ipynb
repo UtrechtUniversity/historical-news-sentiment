{
 "cells": [
  {
   "cell_type": "code",
   "execution_count": 1,
   "id": "2ae78db7",
   "metadata": {},
   "outputs": [
    {
     "name": "stderr",
     "output_type": "stream",
     "text": [
      "[nltk_data] Downloading package stopwords to\n",
      "[nltk_data]     /Users/nadin001/nltk_data...\n",
      "[nltk_data]   Package stopwords is already up-to-date!\n"
     ]
    }
   ],
   "source": [
    "from pathlib import Path\n",
    "from interest.llm.preprocessor import TextPreprocessor\n",
    "from interest.llm.dataloader import CSVDataLoader\n",
    "from interest.utils import prepare_data\n",
    "from interest.classical_ml.hyperparameter_optimizer import run_optimization_pipeline\n"
   ]
  },
  {
   "cell_type": "code",
   "execution_count": null,
   "id": "277d1341",
   "metadata": {},
   "outputs": [
    {
     "name": "stderr",
     "output_type": "stream",
     "text": [
      "2024-12-17 16:27:27,479 - INFO - Starting hyperparameter optimization for Gradient Boosting...\n",
      "2024-12-17 16:29:13,972 - INFO - Gradient Boosting optimization complete.\n",
      "2024-12-17 16:29:13,974 - INFO - Best parameters: {'learning_rate': 0.5, 'n_estimators': 100}\n",
      "2024-12-17 16:29:13,974 - INFO - Best cross-validation score: 0.7043892110781399\n",
      "\n",
      "2024-12-17 16:29:13,974 - INFO - Starting hyperparameter optimization for Support Vector Machine...\n",
      "2024-12-17 16:29:32,372 - INFO - Support Vector Machine optimization complete.\n",
      "2024-12-17 16:29:32,373 - INFO - Best parameters: {'C': 1, 'gamma': 1}\n",
      "2024-12-17 16:29:32,373 - INFO - Best cross-validation score: 0.7434488289550009\n",
      "\n",
      "2024-12-17 16:29:32,373 - INFO - Starting hyperparameter optimization for Logistic Regression...\n",
      "2024-12-17 16:29:32,725 - INFO - Logistic Regression optimization complete.\n",
      "2024-12-17 16:29:32,728 - INFO - Best parameters: {'C': 10, 'penalty': 'l2'}\n",
      "2024-12-17 16:29:32,729 - INFO - Best cross-validation score: 0.7461219183483263\n",
      "\n",
      "2024-12-17 16:29:32,729 - INFO - Starting hyperparameter optimization for Random Forest...\n"
     ]
    }
   ],
   "source": [
    "data_dir = Path(\"../data/merged\")\n",
    "run_optimization_pipeline(data_dir=data_dir, binary_labels=True)\n"
   ]
  },
  {
   "cell_type": "code",
   "execution_count": null,
   "id": "c773bc87",
   "metadata": {},
   "outputs": [],
   "source": []
  }
 ],
 "metadata": {
  "kernelspec": {
   "display_name": "Python 3 (ipykernel)",
   "language": "python",
   "name": "python3"
  },
  "language_info": {
   "codemirror_mode": {
    "name": "ipython",
    "version": 3
   },
   "file_extension": ".py",
   "mimetype": "text/x-python",
   "name": "python",
   "nbconvert_exporter": "python",
   "pygments_lexer": "ipython3",
   "version": "3.11.0"
  }
 },
 "nbformat": 4,
 "nbformat_minor": 5
}
