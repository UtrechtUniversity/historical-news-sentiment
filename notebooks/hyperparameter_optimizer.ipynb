{
 "cells": [
  {
   "cell_type": "code",
   "execution_count": 7,
   "id": "45b9d169",
   "metadata": {},
   "outputs": [],
   "source": [
    "from interest.hyperparameter_optimizer import run_hyperparameter_pipeline\n",
    "from pathlib import Path"
   ]
  },
  {
   "cell_type": "code",
   "execution_count": 5,
   "id": "dfb6245c",
   "metadata": {},
   "outputs": [
    {
     "name": "stderr",
     "output_type": "stream",
     "text": [
      "2024-12-12 14:36:01,094 - INFO - Starting hyperparameter optimization for Gradient Boosting...\n",
      "2024-12-12 14:37:36,410 - INFO - Gradient Boosting optimization complete.\n",
      "2024-12-12 14:37:36,411 - INFO - Best parameters: {'learning_rate': 0.1, 'n_estimators': 100}\n",
      "2024-12-12 14:37:36,412 - INFO - Best cross-validation score: 0.7229488506937254\n",
      "\n",
      "2024-12-12 14:37:36,412 - INFO - Starting hyperparameter optimization for Support Vector Machine...\n",
      "2024-12-12 14:37:55,357 - INFO - Support Vector Machine optimization complete.\n",
      "2024-12-12 14:37:55,358 - INFO - Best parameters: {'C': 1, 'gamma': 1}\n",
      "2024-12-12 14:37:55,358 - INFO - Best cross-validation score: 0.7520459722509838\n",
      "\n",
      "2024-12-12 14:37:55,358 - INFO - Starting hyperparameter optimization for Logistic Regression...\n",
      "2024-12-12 14:37:55,694 - INFO - Logistic Regression optimization complete.\n",
      "2024-12-12 14:37:55,695 - INFO - Best parameters: {'C': 10, 'penalty': 'l2'}\n",
      "2024-12-12 14:37:55,696 - INFO - Best cross-validation score: 0.7484137502588528\n",
      "\n",
      "2024-12-12 14:37:55,706 - INFO - Starting hyperparameter optimization for Random Forest...\n",
      "2024-12-12 14:38:28,053 - INFO - Random Forest optimization complete.\n",
      "2024-12-12 14:38:28,053 - INFO - Best parameters: {'max_depth': 20, 'n_estimators': 100}\n",
      "2024-12-12 14:38:28,054 - INFO - Best cross-validation score: 0.7406895837647547\n",
      "\n",
      "2024-12-12 14:38:28,054 - INFO - Starting hyperparameter optimization for Naive Bayes...\n",
      "2024-12-12 14:38:28,245 - INFO - Naive Bayes optimization complete.\n",
      "2024-12-12 14:38:28,246 - INFO - Best parameters: {'alpha': 0.1, 'norm': False}\n",
      "2024-12-12 14:38:28,246 - INFO - Best cross-validation score: 0.7411348105197764\n",
      "\n",
      "2024-12-12 14:38:28,247 - INFO - Gradient Boosting Results: {'best_params': {'learning_rate': 0.1, 'n_estimators': 100}, 'best_score': np.float64(0.7229488506937254)}\n",
      "2024-12-12 14:38:28,247 - INFO - Support Vector Machine Results: {'best_params': {'C': 1, 'gamma': 1}, 'best_score': np.float64(0.7520459722509838)}\n",
      "2024-12-12 14:38:28,247 - INFO - Logistic Regression Results: {'best_params': {'C': 10, 'penalty': 'l2'}, 'best_score': np.float64(0.7484137502588528)}\n",
      "2024-12-12 14:38:28,247 - INFO - Random Forest Results: {'best_params': {'max_depth': 20, 'n_estimators': 100}, 'best_score': np.float64(0.7406895837647547)}\n",
      "2024-12-12 14:38:28,248 - INFO - Naive Bayes Results: {'best_params': {'alpha': 0.1, 'norm': False}, 'best_score': np.float64(0.7411348105197764)}\n"
     ]
    }
   ],
   "source": [
    "# scoring={'accuracy'}\n",
    "data_dir = Path(\"../data/merged\")\n",
    "model_name = \"emanjavacas/GysBERT-v2\"\n",
    "run_hyperparameter_pipeline(data_dir=data_dir, model_name=model_name)\n"
   ]
  },
  {
   "cell_type": "code",
   "execution_count": 6,
   "id": "6e056f3c",
   "metadata": {},
   "outputs": [
    {
     "name": "stderr",
     "output_type": "stream",
     "text": [
      "2024-12-12 14:45:09,806 - INFO - Starting hyperparameter optimization for Gradient Boosting...\n",
      "2024-12-12 14:46:46,160 - INFO - Gradient Boosting optimization complete.\n",
      "2024-12-12 14:46:46,161 - INFO - Best parameters: {'learning_rate': 0.1, 'n_estimators': 100}\n",
      "2024-12-12 14:46:46,161 - INFO - Best cross-validation score: 0.7229488506937254\n",
      "\n",
      "2024-12-12 14:46:46,161 - INFO - Starting hyperparameter optimization for Support Vector Machine...\n",
      "2024-12-12 14:47:05,264 - INFO - Support Vector Machine optimization complete.\n",
      "2024-12-12 14:47:05,265 - INFO - Best parameters: {'C': 1, 'gamma': 1}\n",
      "2024-12-12 14:47:05,265 - INFO - Best cross-validation score: 0.7520459722509838\n",
      "\n",
      "2024-12-12 14:47:05,265 - INFO - Starting hyperparameter optimization for Logistic Regression...\n",
      "2024-12-12 14:47:05,654 - INFO - Logistic Regression optimization complete.\n",
      "2024-12-12 14:47:05,655 - INFO - Best parameters: {'C': 10, 'penalty': 'l2'}\n",
      "2024-12-12 14:47:05,658 - INFO - Best cross-validation score: 0.7484137502588528\n",
      "\n",
      "2024-12-12 14:47:05,670 - INFO - Starting hyperparameter optimization for Random Forest...\n",
      "2024-12-12 14:47:38,489 - INFO - Random Forest optimization complete.\n",
      "2024-12-12 14:47:38,489 - INFO - Best parameters: {'max_depth': 20, 'n_estimators': 100}\n",
      "2024-12-12 14:47:38,490 - INFO - Best cross-validation score: 0.7406895837647547\n",
      "\n",
      "2024-12-12 14:47:38,490 - INFO - Starting hyperparameter optimization for Naive Bayes...\n",
      "2024-12-12 14:47:38,689 - INFO - Naive Bayes optimization complete.\n",
      "2024-12-12 14:47:38,690 - INFO - Best parameters: {'alpha': 0.1, 'norm': False}\n",
      "2024-12-12 14:47:38,690 - INFO - Best cross-validation score: 0.7411348105197764\n",
      "\n",
      "2024-12-12 14:47:38,690 - INFO - Gradient Boosting Results: {'best_params': {'learning_rate': 0.1, 'n_estimators': 100}, 'best_score': np.float64(0.7229488506937254)}\n",
      "2024-12-12 14:47:38,691 - INFO - Support Vector Machine Results: {'best_params': {'C': 1, 'gamma': 1}, 'best_score': np.float64(0.7520459722509838)}\n",
      "2024-12-12 14:47:38,691 - INFO - Logistic Regression Results: {'best_params': {'C': 10, 'penalty': 'l2'}, 'best_score': np.float64(0.7484137502588528)}\n",
      "2024-12-12 14:47:38,691 - INFO - Random Forest Results: {'best_params': {'max_depth': 20, 'n_estimators': 100}, 'best_score': np.float64(0.7406895837647547)}\n",
      "2024-12-12 14:47:38,692 - INFO - Naive Bayes Results: {'best_params': {'alpha': 0.1, 'norm': False}, 'best_score': np.float64(0.7411348105197764)}\n"
     ]
    }
   ],
   "source": [
    "# scoring={'f1_weighted'}\n",
    "\n",
    "data_dir = Path(\"../data/merged\")\n",
    "model_name = \"emanjavacas/GysBERT-v2\"\n",
    "run_hyperparameter_pipeline(data_dir=data_dir, model_name=model_name)\n"
   ]
  },
  {
   "cell_type": "code",
   "execution_count": 8,
   "id": "b9aa29c3",
   "metadata": {},
   "outputs": [
    {
     "name": "stderr",
     "output_type": "stream",
     "text": [
      "2024-12-12 14:51:00,597 - INFO - Starting hyperparameter optimization for Gradient Boosting...\n",
      "2024-12-12 14:52:35,108 - INFO - Gradient Boosting optimization complete.\n",
      "2024-12-12 14:52:35,108 - INFO - Best parameters: {'learning_rate': 0.1, 'n_estimators': 100}\n",
      "2024-12-12 14:52:35,109 - INFO - Best cross-validation score: 0.7229488506937254\n",
      "\n",
      "2024-12-12 14:52:35,109 - INFO - Starting hyperparameter optimization for Support Vector Machine...\n",
      "2024-12-12 14:52:53,573 - INFO - Support Vector Machine optimization complete.\n",
      "2024-12-12 14:52:53,574 - INFO - Best parameters: {'C': 1, 'gamma': 1}\n",
      "2024-12-12 14:52:53,574 - INFO - Best cross-validation score: 0.7520459722509838\n",
      "\n",
      "2024-12-12 14:52:53,574 - INFO - Starting hyperparameter optimization for Logistic Regression...\n",
      "2024-12-12 14:52:53,913 - INFO - Logistic Regression optimization complete.\n",
      "2024-12-12 14:52:53,916 - INFO - Best parameters: {'C': 10, 'penalty': 'l2'}\n",
      "2024-12-12 14:52:53,919 - INFO - Best cross-validation score: 0.7484137502588528\n",
      "\n",
      "2024-12-12 14:52:53,942 - INFO - Starting hyperparameter optimization for Random Forest...\n",
      "2024-12-12 14:53:25,310 - INFO - Random Forest optimization complete.\n",
      "2024-12-12 14:53:25,311 - INFO - Best parameters: {'max_depth': 20, 'n_estimators': 100}\n",
      "2024-12-12 14:53:25,311 - INFO - Best cross-validation score: 0.7406895837647547\n",
      "\n",
      "2024-12-12 14:53:25,311 - INFO - Starting hyperparameter optimization for Naive Bayes...\n",
      "2024-12-12 14:53:25,498 - INFO - Naive Bayes optimization complete.\n",
      "2024-12-12 14:53:25,498 - INFO - Best parameters: {'alpha': 0.1, 'norm': False}\n",
      "2024-12-12 14:53:25,499 - INFO - Best cross-validation score: 0.7411348105197764\n",
      "\n",
      "2024-12-12 14:53:25,499 - INFO - Gradient Boosting Results: {'best_params': {'learning_rate': 0.1, 'n_estimators': 100}, 'best_score': np.float64(0.7229488506937254)}\n",
      "2024-12-12 14:53:25,500 - INFO - Support Vector Machine Results: {'best_params': {'C': 1, 'gamma': 1}, 'best_score': np.float64(0.7520459722509838)}\n",
      "2024-12-12 14:53:25,500 - INFO - Logistic Regression Results: {'best_params': {'C': 10, 'penalty': 'l2'}, 'best_score': np.float64(0.7484137502588528)}\n",
      "2024-12-12 14:53:25,500 - INFO - Random Forest Results: {'best_params': {'max_depth': 20, 'n_estimators': 100}, 'best_score': np.float64(0.7406895837647547)}\n",
      "2024-12-12 14:53:25,500 - INFO - Naive Bayes Results: {'best_params': {'alpha': 0.1, 'norm': False}, 'best_score': np.float64(0.7411348105197764)}\n"
     ]
    }
   ],
   "source": [
    "# scoring={'f1_weighted', 'accuracy'}\n",
    "data_dir = Path(\"../data/merged\")\n",
    "model_name = \"emanjavacas/GysBERT-v2\"\n",
    "run_hyperparameter_pipeline(data_dir=data_dir, model_name=model_name)\n"
   ]
  },
  {
   "cell_type": "code",
   "execution_count": null,
   "id": "08719e3a",
   "metadata": {},
   "outputs": [],
   "source": []
  }
 ],
 "metadata": {
  "kernelspec": {
   "display_name": "Python 3 (ipykernel)",
   "language": "python",
   "name": "python3"
  },
  "language_info": {
   "codemirror_mode": {
    "name": "ipython",
    "version": 3
   },
   "file_extension": ".py",
   "mimetype": "text/x-python",
   "name": "python",
   "nbconvert_exporter": "python",
   "pygments_lexer": "ipython3",
   "version": "3.11.0"
  }
 },
 "nbformat": 4,
 "nbformat_minor": 5
}
