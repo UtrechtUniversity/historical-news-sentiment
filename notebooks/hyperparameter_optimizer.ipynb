{
 "cells": [
  {
   "cell_type": "code",
   "execution_count": 11,
   "id": "2ae78db7",
   "metadata": {},
   "outputs": [],
   "source": [
    "from interest.hyperparameter_optimizer import run_hyperparameter_pipeline\n",
    "from pathlib import Path"
   ]
  },
  {
   "cell_type": "code",
   "execution_count": 12,
   "id": "9b611c75",
   "metadata": {},
   "outputs": [
    {
     "name": "stderr",
     "output_type": "stream",
     "text": [
      "2024-12-13 10:20:15,247 - INFO - Starting hyperparameter optimization for Gradient Boosting...\n",
      "2024-12-13 10:21:51,444 - INFO - Gradient Boosting optimization complete.\n",
      "2024-12-13 10:21:51,445 - INFO - Best parameters: {'learning_rate': 0.1, 'n_estimators': 100}\n",
      "2024-12-13 10:21:51,445 - INFO - Best cross-validation score: 0.7229488506937254\n",
      "\n",
      "2024-12-13 10:21:51,446 - INFO - Starting hyperparameter optimization for Support Vector Machine...\n",
      "2024-12-13 10:22:10,105 - INFO - Support Vector Machine optimization complete.\n",
      "2024-12-13 10:22:10,105 - INFO - Best parameters: {'C': 1, 'gamma': 1}\n",
      "2024-12-13 10:22:10,106 - INFO - Best cross-validation score: 0.7520459722509838\n",
      "\n",
      "2024-12-13 10:22:10,106 - INFO - Starting hyperparameter optimization for Logistic Regression...\n",
      "2024-12-13 10:22:10,453 - INFO - Logistic Regression optimization complete.\n",
      "2024-12-13 10:22:10,454 - INFO - Best parameters: {'C': 10, 'penalty': 'l2'}\n",
      "2024-12-13 10:22:10,456 - INFO - Best cross-validation score: 0.7484137502588528\n",
      "\n",
      "2024-12-13 10:22:10,457 - INFO - Starting hyperparameter optimization for Random Forest...\n",
      "2024-12-13 10:28:09,994 - INFO - Random Forest optimization complete.\n",
      "2024-12-13 10:28:09,995 - INFO - Best parameters: {'max_depth': 20, 'n_estimators': 100}\n",
      "2024-12-13 10:28:09,996 - INFO - Best cross-validation score: 0.7406895837647547\n",
      "\n",
      "2024-12-13 10:28:09,996 - INFO - Starting hyperparameter optimization for Naive Bayes...\n",
      "2024-12-13 10:28:10,244 - INFO - Naive Bayes optimization complete.\n",
      "2024-12-13 10:28:10,244 - INFO - Best parameters: {'alpha': 0.1, 'norm': False}\n",
      "2024-12-13 10:28:10,245 - INFO - Best cross-validation score: 0.7411348105197764\n",
      "\n",
      "2024-12-13 10:28:10,245 - INFO - Gradient Boosting Results: {'best_params': {'learning_rate': 0.1, 'n_estimators': 100}, 'best_score': np.float64(0.7229488506937254)}\n",
      "2024-12-13 10:28:10,246 - INFO - Support Vector Machine Results: {'best_params': {'C': 1, 'gamma': 1}, 'best_score': np.float64(0.7520459722509838)}\n",
      "2024-12-13 10:28:10,246 - INFO - Logistic Regression Results: {'best_params': {'C': 10, 'penalty': 'l2'}, 'best_score': np.float64(0.7484137502588528)}\n",
      "2024-12-13 10:28:10,246 - INFO - Random Forest Results: {'best_params': {'max_depth': 20, 'n_estimators': 100}, 'best_score': np.float64(0.7406895837647547)}\n",
      "2024-12-13 10:28:10,246 - INFO - Naive Bayes Results: {'best_params': {'alpha': 0.1, 'norm': False}, 'best_score': np.float64(0.7411348105197764)}\n"
     ]
    }
   ],
   "source": [
    "# scoring={'f1_weighted', 'accuracy'}\n",
    "data_dir = Path(\"../data/merged\")\n",
    "model_name = \"emanjavacas/GysBERT-v2\"\n",
    "run_hyperparameter_pipeline(data_dir=data_dir, model_name=model_name)\n"
   ]
  },
  {
   "cell_type": "code",
   "execution_count": null,
   "id": "c773bc87",
   "metadata": {},
   "outputs": [],
   "source": []
  }
 ],
 "metadata": {
  "kernelspec": {
   "display_name": "Python 3 (ipykernel)",
   "language": "python",
   "name": "python3"
  },
  "language_info": {
   "codemirror_mode": {
    "name": "ipython",
    "version": 3
   },
   "file_extension": ".py",
   "mimetype": "text/x-python",
   "name": "python",
   "nbconvert_exporter": "python",
   "pygments_lexer": "ipython3",
   "version": "3.11.0"
  }
 },
 "nbformat": 4,
 "nbformat_minor": 5
}
