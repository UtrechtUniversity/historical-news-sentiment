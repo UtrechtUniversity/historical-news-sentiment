{
 "cells": [
  {
   "cell_type": "code",
   "execution_count": 1,
   "id": "2ae78db7",
   "metadata": {},
   "outputs": [
    {
     "name": "stderr",
     "output_type": "stream",
     "text": [
      "2025-03-14 11:21:36,150 - INFO - Logging initialized\n",
      "[nltk_data] Downloading package stopwords to\n",
      "[nltk_data]     /Users/nadin001/nltk_data...\n",
      "[nltk_data]   Package stopwords is already up-to-date!\n"
     ]
    }
   ],
   "source": [
    "from pathlib import Path\n",
    "from interest.dataprocessor.preprocessor import TextPreprocessor\n",
    "from interest.dataprocessor.dataloader import CSVDataLoader\n",
    "from interest.hyperparameter_optimizer import run_optimization_pipeline\n",
    "import pandas as pd"
   ]
  },
  {
   "cell_type": "code",
   "execution_count": 2,
   "id": "61ad1741",
   "metadata": {},
   "outputs": [],
   "source": [
    "train_fp = Path(\"../data/AI-labeled/train_dataset.csv\")\n",
    "train_dataset = pd.read_csv(train_fp)\n",
    "train_dataset['label'] = train_dataset['label'].replace(0, 1)\n",
    "train_dataset['label'] = train_dataset['label'].replace(-1, 0)\n",
    "train_data = train_dataset['processed_text']\n",
    "train_labels = train_dataset['label']"
   ]
  },
  {
   "cell_type": "code",
   "execution_count": 3,
   "id": "277d1341",
   "metadata": {},
   "outputs": [
    {
     "name": "stderr",
     "output_type": "stream",
     "text": [
      "2025-03-14 11:21:39,075 - INFO - Converting X_train to dense array for Gradient Boosting. Shape: (2709, 36647)\n",
      "2025-03-14 11:21:39,127 - INFO - Imbalance ratio for Gradient Boosting: 1.6742349457058243\n",
      "2025-03-14 11:21:39,128 - INFO - Starting hyperparameter optimization for Gradient Boosting...\n",
      "2025-03-14 11:24:15,593 - INFO - Training Score: 0.9354005167958657\n",
      "2025-03-14 11:24:15,595 - INFO - Cross-validation Score: 0.6584371242023185\n",
      "2025-03-14 11:24:15,596 - WARNING - Gradient Boosting may be overfitting: Training Score: 0.9354005167958657, Validation Score: 0.6584371242023185\n",
      "2025-03-14 11:24:15,596 - INFO - Gradient Boosting optimization complete.\n",
      "2025-03-14 11:24:15,597 - INFO - Best parameters: {'classifier__max_iter': 50, 'classifier__learning_rate': 0.5}\n",
      "2025-03-14 11:24:15,597 - INFO - Best cross-validation score: 0.6584371242023185\n",
      "\n",
      "2025-03-14 11:24:15,598 - INFO - Imbalance ratio for Support Vector Machine: 1.6742349457058243\n",
      "2025-03-14 11:24:15,598 - INFO - Starting hyperparameter optimization for Support Vector Machine...\n",
      "2025-03-14 11:31:22,574 - INFO - Training Score: 0.935031376891842\n",
      "2025-03-14 11:31:22,578 - INFO - Cross-validation Score: 0.7837342146334197\n",
      "2025-03-14 11:31:22,579 - WARNING - Support Vector Machine may be overfitting: Training Score: 0.935031376891842, Validation Score: 0.7837342146334197\n",
      "2025-03-14 11:31:22,584 - INFO - Support Vector Machine optimization complete.\n",
      "2025-03-14 11:31:22,587 - INFO - Best parameters: {'classifier__gamma': 10, 'classifier__C': 1}\n",
      "2025-03-14 11:31:22,588 - INFO - Best cross-validation score: 0.7837342146334197\n",
      "\n",
      "2025-03-14 11:31:22,591 - INFO - Imbalance ratio for Logistic Regression: 1.6742349457058243\n",
      "2025-03-14 11:31:22,593 - INFO - Starting hyperparameter optimization for Logistic Regression...\n",
      "2025-03-14 11:31:30,087 - INFO - Training Score: 0.7881136950904393\n",
      "2025-03-14 11:31:30,090 - INFO - Cross-validation Score: 0.6685897055811779\n",
      "2025-03-14 11:31:30,092 - WARNING - Logistic Regression may be overfitting: Training Score: 0.7881136950904393, Validation Score: 0.6685897055811779\n",
      "2025-03-14 11:31:30,108 - INFO - Logistic Regression optimization complete.\n",
      "2025-03-14 11:31:30,109 - INFO - Best parameters: {'classifier__penalty': 'l2', 'classifier__C': 0.01}\n",
      "2025-03-14 11:31:30,110 - INFO - Best cross-validation score: 0.6685897055811779\n",
      "\n",
      "2025-03-14 11:31:30,113 - INFO - Imbalance ratio for Random Forest: 1.6742349457058243\n",
      "2025-03-14 11:31:30,113 - INFO - Starting hyperparameter optimization for Random Forest...\n",
      "2025-03-14 11:31:51,862 - INFO - Training Score: 0.8992248062015504\n",
      "2025-03-14 11:31:51,864 - INFO - Cross-validation Score: 0.6556211730758662\n",
      "2025-03-14 11:31:51,865 - WARNING - Random Forest may be overfitting: Training Score: 0.8992248062015504, Validation Score: 0.6556211730758662\n",
      "2025-03-14 11:31:51,865 - INFO - Random Forest optimization complete.\n",
      "2025-03-14 11:31:51,865 - INFO - Best parameters: {'classifier__n_estimators': 200, 'classifier__min_samples_split': 5, 'classifier__max_depth': 20}\n",
      "2025-03-14 11:31:51,866 - INFO - Best cross-validation score: 0.6556211730758662\n",
      "\n",
      "2025-03-14 11:31:51,866 - INFO - Imbalance ratio for Naive Bayes: 1.6742349457058243\n",
      "2025-03-14 11:31:51,867 - INFO - Starting hyperparameter optimization for Naive Bayes...\n",
      "2025-03-14 11:31:56,118 - INFO - Training Score: 0.9243263196751569\n",
      "2025-03-14 11:31:56,122 - INFO - Cross-validation Score: 0.6964742217212055\n",
      "2025-03-14 11:31:56,123 - WARNING - Naive Bayes may be overfitting: Training Score: 0.9243263196751569, Validation Score: 0.6964742217212055\n",
      "2025-03-14 11:31:56,124 - INFO - Naive Bayes optimization complete.\n",
      "2025-03-14 11:31:56,125 - INFO - Best parameters: {'classifier__norm': False, 'classifier__alpha': 0.1}\n",
      "2025-03-14 11:31:56,129 - INFO - Best cross-validation score: 0.6964742217212055\n",
      "\n",
      "2025-03-14 11:31:56,141 - INFO - Hyperparameter optimization results saved to hyperparameter_results_binary.json\n",
      "2025-03-14 11:31:56,143 - INFO - Gradient Boosting Results: {'best_params': {'classifier__max_iter': 50, 'classifier__learning_rate': 0.5}, 'best_score': 0.6584371242023185}\n",
      "2025-03-14 11:31:56,144 - INFO - Support Vector Machine Results: {'best_params': {'classifier__gamma': 10, 'classifier__C': 1}, 'best_score': 0.7837342146334197}\n",
      "2025-03-14 11:31:56,144 - INFO - Logistic Regression Results: {'best_params': {'classifier__penalty': 'l2', 'classifier__C': 0.01}, 'best_score': 0.6685897055811779}\n",
      "2025-03-14 11:31:56,145 - INFO - Random Forest Results: {'best_params': {'classifier__n_estimators': 200, 'classifier__min_samples_split': 5, 'classifier__max_depth': 20}, 'best_score': 0.6556211730758662}\n",
      "2025-03-14 11:31:56,146 - INFO - Naive Bayes Results: {'best_params': {'classifier__norm': False, 'classifier__alpha': 0.1}, 'best_score': 0.6964742217212055}\n"
     ]
    }
   ],
   "source": [
    "run_optimization_pipeline(train_data=train_data, train_labels=train_labels, binary_labels=True)\n"
   ]
  },
  {
   "cell_type": "code",
   "execution_count": 2,
   "id": "c773bc87",
   "metadata": {},
   "outputs": [],
   "source": [
    "train_fp = Path(\"../data/AI-labeled/train_dataset.csv\")\n",
    "train_dataset = pd.read_csv(train_fp)\n",
    "train_data = train_dataset['processed_text']\n",
    "train_labels = train_dataset['label']"
   ]
  },
  {
   "cell_type": "code",
   "execution_count": 3,
   "id": "168a29ef",
   "metadata": {},
   "outputs": [
    {
     "name": "stderr",
     "output_type": "stream",
     "text": [
      "2025-03-14 11:04:28,822 - INFO - Converting X_train to dense array for Gradient Boosting. Shape: (2709, 36647)\n",
      "2025-03-14 11:04:28,875 - INFO - Imbalance ratio for Gradient Boosting: 1.2953964194373402\n",
      "2025-03-14 11:04:28,876 - INFO - Starting hyperparameter optimization for Gradient Boosting...\n",
      "2025-03-14 11:11:50,670 - INFO - Training Score: 0.8899963086009598\n",
      "2025-03-14 11:11:50,673 - INFO - Cross-validation Score: 0.7256870410961995\n",
      "2025-03-14 11:11:50,673 - WARNING - Gradient Boosting may be overfitting: Training Score: 0.8899963086009598, Validation Score: 0.7256870410961995\n",
      "2025-03-14 11:11:50,674 - INFO - Gradient Boosting optimization complete.\n",
      "2025-03-14 11:11:50,674 - INFO - Best parameters: {'classifier__max_iter': 50, 'classifier__learning_rate': 0.05}\n",
      "2025-03-14 11:11:50,674 - INFO - Best cross-validation score: 0.7256870410961995\n",
      "\n",
      "2025-03-14 11:11:50,675 - INFO - Imbalance ratio for Support Vector Machine: 1.2953964194373402\n",
      "2025-03-14 11:11:50,676 - INFO - Starting hyperparameter optimization for Support Vector Machine...\n",
      "2025-03-14 11:17:42,474 - INFO - Training Score: 0.3739387227759321\n",
      "2025-03-14 11:17:42,479 - INFO - Cross-validation Score: 0.2035466509273418\n",
      "2025-03-14 11:17:42,481 - WARNING - Support Vector Machine may be underfitting: Training Score: 0.3739387227759321, Validation Score: 0.2035466509273418\n",
      "2025-03-14 11:17:42,481 - INFO - Support Vector Machine optimization complete.\n",
      "2025-03-14 11:17:42,482 - INFO - Best parameters: {'classifier__gamma': 1, 'classifier__C': 0.01}\n",
      "2025-03-14 11:17:42,483 - INFO - Best cross-validation score: 0.2035466509273418\n",
      "\n",
      "2025-03-14 11:17:42,485 - INFO - Imbalance ratio for Logistic Regression: 1.2953964194373402\n",
      "2025-03-14 11:17:42,486 - INFO - Starting hyperparameter optimization for Logistic Regression...\n",
      "2025-03-14 11:17:55,190 - INFO - Training Score: 0.6471022517534145\n",
      "2025-03-14 11:17:55,200 - INFO - Cross-validation Score: 0.7390890666061783\n",
      "2025-03-14 11:17:55,201 - INFO - Logistic Regression optimization complete.\n",
      "2025-03-14 11:17:55,202 - INFO - Best parameters: {'classifier__penalty': 'l2', 'classifier__C': 0.1}\n",
      "2025-03-14 11:17:55,204 - INFO - Best cross-validation score: 0.7390890666061783\n",
      "\n",
      "2025-03-14 11:17:55,205 - INFO - Imbalance ratio for Random Forest: 1.2953964194373402\n",
      "2025-03-14 11:17:55,206 - INFO - Starting hyperparameter optimization for Random Forest...\n",
      "2025-03-14 11:18:11,021 - INFO - Training Score: 0.8560354374307863\n",
      "2025-03-14 11:18:11,023 - INFO - Cross-validation Score: 0.7318482134743456\n",
      "2025-03-14 11:18:11,024 - WARNING - Random Forest may be overfitting: Training Score: 0.8560354374307863, Validation Score: 0.7318482134743456\n",
      "2025-03-14 11:18:11,024 - INFO - Random Forest optimization complete.\n",
      "2025-03-14 11:18:11,024 - INFO - Best parameters: {'classifier__n_estimators': 200, 'classifier__min_samples_split': 5, 'classifier__max_depth': 20}\n",
      "2025-03-14 11:18:11,024 - INFO - Best cross-validation score: 0.7318482134743456\n",
      "\n",
      "2025-03-14 11:18:11,025 - INFO - Imbalance ratio for Naive Bayes: 1.2953964194373402\n",
      "2025-03-14 11:18:11,025 - INFO - Starting hyperparameter optimization for Naive Bayes...\n",
      "2025-03-14 11:18:12,060 - INFO - Training Score: 0.8929494278331488\n",
      "2025-03-14 11:18:12,061 - INFO - Cross-validation Score: 0.7499178258526409\n",
      "2025-03-14 11:18:12,063 - WARNING - Naive Bayes may be overfitting: Training Score: 0.8929494278331488, Validation Score: 0.7499178258526409\n",
      "2025-03-14 11:18:12,064 - INFO - Naive Bayes optimization complete.\n",
      "2025-03-14 11:18:12,067 - INFO - Best parameters: {'classifier__norm': True, 'classifier__alpha': 0.1}\n",
      "2025-03-14 11:18:12,069 - INFO - Best cross-validation score: 0.7499178258526409\n",
      "\n",
      "2025-03-14 11:18:12,071 - INFO - Hyperparameter optimization results saved to hyperparameter_results_multiclass.json\n",
      "2025-03-14 11:18:12,073 - INFO - Gradient Boosting Results: {'best_params': {'classifier__max_iter': 50, 'classifier__learning_rate': 0.05}, 'best_score': 0.7256870410961995}\n",
      "2025-03-14 11:18:12,075 - INFO - Support Vector Machine Results: {'best_params': {'classifier__gamma': 1, 'classifier__C': 0.01}, 'best_score': 0.2035466509273418}\n",
      "2025-03-14 11:18:12,076 - INFO - Logistic Regression Results: {'best_params': {'classifier__penalty': 'l2', 'classifier__C': 0.1}, 'best_score': 0.7390890666061783}\n",
      "2025-03-14 11:18:12,079 - INFO - Random Forest Results: {'best_params': {'classifier__n_estimators': 200, 'classifier__min_samples_split': 5, 'classifier__max_depth': 20}, 'best_score': 0.7318482134743456}\n",
      "2025-03-14 11:18:12,080 - INFO - Naive Bayes Results: {'best_params': {'classifier__norm': True, 'classifier__alpha': 0.1}, 'best_score': 0.7499178258526409}\n"
     ]
    }
   ],
   "source": [
    "run_optimization_pipeline(train_data=train_data, train_labels=train_labels, binary_labels=False)\n"
   ]
  },
  {
   "cell_type": "code",
   "execution_count": null,
   "id": "0de236cf",
   "metadata": {},
   "outputs": [],
   "source": []
  }
 ],
 "metadata": {
  "kernelspec": {
   "display_name": "Python 3 (ipykernel)",
   "language": "python",
   "name": "python3"
  },
  "language_info": {
   "codemirror_mode": {
    "name": "ipython",
    "version": 3
   },
   "file_extension": ".py",
   "mimetype": "text/x-python",
   "name": "python",
   "nbconvert_exporter": "python",
   "pygments_lexer": "ipython3",
   "version": "3.11.0"
  }
 },
 "nbformat": 4,
 "nbformat_minor": 5
}
